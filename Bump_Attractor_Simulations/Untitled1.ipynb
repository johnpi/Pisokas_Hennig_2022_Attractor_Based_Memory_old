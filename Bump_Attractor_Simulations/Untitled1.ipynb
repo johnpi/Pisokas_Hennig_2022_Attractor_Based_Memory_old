{
 "cells": [
  {
   "cell_type": "code",
   "execution_count": 32,
   "metadata": {},
   "outputs": [],
   "source": [
    "%matplotlib inline\n",
    "\n",
    "import numpy as np\n",
    "import math\n",
    "from scipy.special import erf\n",
    "import matplotlib.pyplot as plt\n",
    "\n",
    "sigma_weight_profile = 20\n",
    "Jpos_excit2excit = 1.6\n",
    "N_excitatory = 2048\n",
    "x_pre = 2048 / 2\n",
    "x_post = np.arange(2048)\n",
    "\n",
    "# precompute the weight profile for the recurrent population\n",
    "tmp = math.sqrt(2. * math.pi) * sigma_weight_profile * erf(180. / math.sqrt(2.) / sigma_weight_profile) / 360.\n",
    "Jneg_excit2excit = (1. - Jpos_excit2excit * tmp) / (1. - tmp)\n",
    "\n",
    "presyn_weight_kernel = \\\n",
    "        [(Jneg_excit2excit +\n",
    "          (Jpos_excit2excit - Jneg_excit2excit) *\n",
    "          math.exp(-.5 * (360. * min(j, N_excitatory - j) / N_excitatory) ** 2 / sigma_weight_profile ** 2))\n",
    "         for j in range(N_excitatory)]\n",
    "\n",
    "\n",
    "Gain = Jpos_excit2excit\n",
    "Gain = Jneg_excit2excit + (Jpos_excit2excit - Jneg_excit2excit)\n",
    "presyn_weight_kernel_2 = Gain * np.exp( -(360.0 * np.minimum(np.abs(x_pre-x_post), N_excitatory - np.abs(x_pre-x_post)) / N_excitatory)**2 / (2 * sigma_weight_profile**2))\n"
   ]
  },
  {
   "cell_type": "code",
   "execution_count": 48,
   "metadata": {},
   "outputs": [
    {
     "data": {
      "text/plain": [
       "43.9453125"
      ]
     },
     "execution_count": 48,
     "metadata": {},
     "output_type": "execute_result"
    },
    {
     "data": {
      "image/png": "[encoded data removed]",
      "text/plain": [
       "<Figure size 432x288 with 1 Axes>"
      ]
     },
     "metadata": {
      "needs_background": "light"
     },
     "output_type": "display_data"
    }
   ],
   "source": [
    "plt.plot(presyn_weight_kernel)\n",
    "plt.plot(presyn_weight_kernel_2)\n",
    "rr = 20\n",
    "plt.vlines(900-rr, 0, 1.6)\n",
    "plt.vlines(1150+rr, 0, 1.6)\n",
    "(1150.-900.)/2048. * 360."
   ]
  },
  {
   "cell_type": "code",
   "execution_count": 22,
   "metadata": {},
   "outputs": [
    {
     "data": {
      "text/plain": [
       "(2048,)"
      ]
     },
     "execution_count": 22,
     "metadata": {},
     "output_type": "execute_result"
    }
   ],
   "source": [
    "np.abs(x_pre-x_post).shape"
   ]
  },
  {
   "cell_type": "code",
   "execution_count": 26,
   "metadata": {},
   "outputs": [
    {
     "data": {
      "text/plain": [
       "array([1024, 1023, 1022, ..., 1021, 1022, 1023])"
      ]
     },
     "execution_count": 26,
     "metadata": {},
     "output_type": "execute_result"
    }
   ],
   "source": [
    "np.minimum(abs(x_pre-x_post), N_excitatory - abs(x_pre-x_post)) "
   ]
  },
  {
   "cell_type": "code",
   "execution_count": 31,
   "metadata": {},
   "outputs": [
    {
     "data": {
      "text/plain": [
       "array([2.57675711e-18, 2.78875320e-18, 3.01795758e-18, ...,\n",
       "       3.26574772e-18, 3.01795758e-18, 2.78875320e-18])"
      ]
     },
     "execution_count": 31,
     "metadata": {},
     "output_type": "execute_result"
    }
   ],
   "source": [
    "np.exp( -(360.0 * np.minimum(np.abs(x_pre-x_post), N_excitatory - np.abs(x_pre-x_post)) / N_excitatory)**2 / (2 * sigma_weight_profile**2))"
   ]
  },
  {
   "cell_type": "code",
   "execution_count": null,
   "metadata": {},
   "outputs": [],
   "source": []
  }
 ],
 "metadata": {
  "kernelspec": {
   "display_name": "Python 2",
   "language": "python",
   "name": "python2"
  },
  "language_info": {
   "codemirror_mode": {
    "name": "ipython",
    "version": 2
   },
   "file_extension": ".py",
   "mimetype": "text/x-python",
   "name": "python",
   "nbconvert_exporter": "python",
   "pygments_lexer": "ipython2",
   "version": "2.7.18"
  }
 },
 "nbformat": 4,
 "nbformat_minor": 2
}
