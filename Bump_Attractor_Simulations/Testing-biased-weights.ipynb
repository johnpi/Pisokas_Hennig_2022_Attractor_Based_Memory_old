{
 "cells": [
  {
   "cell_type": "code",
   "execution_count": 11,
   "metadata": {},
   "outputs": [],
   "source": [
    "import brian2 as b2\n",
    "from brian2 import NeuronGroup, Synapses, PoissonInput, network_operation\n",
    "from brian2.monitors import StateMonitor, SpikeMonitor, PopulationRateMonitor\n",
    "from random import sample\n",
    "from collections import deque\n",
    "from neurodynex.tools import plot_tools\n",
    "import numpy\n",
    "import matplotlib.pyplot as plt\n",
    "import math\n",
    "from scipy.special import erf\n",
    "from numpy.fft import rfft, irfft\n",
    "\n",
    "# Include for the additive gaussian white noise function\n",
    "from utility_functions import add_gaussian_white_noise_by_magnitude\n",
    "\n",
    "b2.defaultclock.dt = 0.05 * b2.ms\n",
    "\n",
    "import matplotlib.pyplot as plt\n",
    "%matplotlib inline"
   ]
  },
  {
   "cell_type": "code",
   "execution_count": 4,
   "metadata": {},
   "outputs": [],
   "source": [
    "N_excitatory=1024\n",
    "N_inhibitory=256\n",
    "N_extern_poisson=1000 \n",
    "poisson_firing_rate=1.4 * b2.Hz\n",
    "weight_scaling_factor=2.\n",
    "sigma_weight_profile=20.\n",
    "Jpos_excit2excit=1.6\n",
    "stimulus_center_deg=180\n",
    "stimulus_width_deg=40\n",
    "stimulus_strength=0.07 * b2.namp\n",
    "t_stimulus_start=0 * b2.ms\n",
    "t_stimulus_duration=0 * b2.ms\n",
    "distractor_center_deg=90\n",
    "distractor_width_deg=40 \n",
    "distractor_strength=0.0 * b2.namp\n",
    "t_distractor_start=0 * b2.ms\n",
    "t_distractor_duration=0 * b2.ms\n",
    "G_inhib2inhib=.35 * 1.024 * b2.nS\n",
    "G_inhib2excit=.35 * 1.336 * b2.nS\n",
    "G_excit2excit=.35 * 0.381 * b2.nS\n",
    "G_excit2inhib=.35 * 1.2 * 0.292 * b2.nS\n",
    "monitored_subset_size=1024\n",
    "sim_time=800. * b2.ms\n",
    "synaptic_noise_amount=0.0\n",
    "tau_excit     = None # Default is 20.0 * b2.ms (tau_excit needs to be higher than tau_inhib for bump maintenance)\n",
    "tau_inhib     = None  # Default is 10.0 * b2.ms\n"
   ]
  },
  {
   "cell_type": "code",
   "execution_count": 5,
   "metadata": {},
   "outputs": [],
   "source": [
    "# projectsions from the inhibitory populations\n",
    "G_inhib2inhib *= weight_scaling_factor\n",
    "G_inhib2excit *= weight_scaling_factor\n",
    "\n",
    "# projections from the excitatory population\n",
    "G_excit2excit *= weight_scaling_factor\n",
    "G_excit2inhib *= weight_scaling_factor  # todo: verify this scaling\n"
   ]
  },
  {
   "cell_type": "code",
   "execution_count": 26,
   "metadata": {},
   "outputs": [],
   "source": [
    "# precompute the weight profile for the recurrent population\n",
    "tmp = math.sqrt(2. * math.pi) * sigma_weight_profile * erf(180. / math.sqrt(2.) / sigma_weight_profile) / 360.\n",
    "Jneg_excit2excit = (1. - Jpos_excit2excit * tmp) / (1. - tmp)\n",
    "presyn_weight_kernel = \\\n",
    "    [(Jneg_excit2excit +\n",
    "      (Jpos_excit2excit - Jneg_excit2excit) *\n",
    "      math.exp(-.5 * (360. * min(j, N_excitatory - j) / N_excitatory) ** 2 / sigma_weight_profile ** 2))\n",
    "     for j in range(N_excitatory)]\n",
    "\n",
    "# Add noise to the synaptic weights\n",
    "presyn_weight_kernel = add_gaussian_white_noise_by_magnitude(presyn_weight_kernel, synaptic_noise_amount)\n",
    "\n",
    "# validate the normalization condition: (360./N_excitatory)*sum(presyn_weight_kernel)/360.\n",
    "fft_presyn_weight_kernel = rfft(presyn_weight_kernel)\n",
    "weight_profile_45 = deque(presyn_weight_kernel)   # deque: a bouble ended queue data structure\n",
    "rot_dist = int(round(len(weight_profile_45) / 8)) # (len(weight_profile_45)==1024==N_excitatory)/8 = 128\n",
    "weight_profile_45.rotate(rot_dist)                # rotate elements of the deque by 128 positions\n"
   ]
  },
  {
   "cell_type": "code",
   "execution_count": 31,
   "metadata": {},
   "outputs": [
    {
     "data": {
      "text/plain": [
       "(0.9029277169981036, 0.9029277169981036, 1.6, 1.6)"
      ]
     },
     "execution_count": 31,
     "metadata": {},
     "output_type": "execute_result"
    }
   ],
   "source": [
    "min(presyn_weight_kernel), Jneg_excit2excit, max(presyn_weight_kernel), Jpos_excit2excit"
   ]
  },
  {
   "cell_type": "code",
   "execution_count": 33,
   "metadata": {},
   "outputs": [
    {
     "data": {
      "text/plain": [
       "[<matplotlib.lines.Line2D at 0x12487de10>]"
      ]
     },
     "execution_count": 33,
     "metadata": {},
     "output_type": "execute_result"
    },
    {
     "data": {
      "image/png": "[encoded data removed]",
      "text/plain": [
       "<Figure size 432x288 with 1 Axes>"
      ]
     },
     "metadata": {
      "needs_background": "light"
     },
     "output_type": "display_data"
    }
   ],
   "source": [
    "plt.plot(presyn_weight_kernel)"
   ]
  },
  {
   "cell_type": "code",
   "execution_count": 69,
   "metadata": {},
   "outputs": [
    {
     "data": {
      "text/plain": [
       "array([ 1.02400000e+03+0.00000000e+00j,  9.35268845e+01+3.33066907e-16j,\n",
       "        7.79040918e+01-8.32667268e-17j,  5.74469008e+01+1.69309011e-15j,\n",
       "        3.75020902e+01+4.16333634e-16j,  2.16733916e+01-8.32667268e-16j,\n",
       "        1.10887046e+01+1.67227343e-15j,  5.02246927e+00-9.31546507e-16j,\n",
       "        2.01389255e+00+6.93889390e-18j,  7.14887717e-01-1.38083989e-15j,\n",
       "        2.24658011e-01+1.61112443e-15j,  6.25012235e-02-1.46172137e-15j,\n",
       "        1.53935102e-02+9.15120844e-16j,  3.35636621e-03+1.44392690e-15j,\n",
       "        6.47863558e-04+4.38534368e-16j,  1.10708329e-04-2.18160959e-15j,\n",
       "        1.67478699e-05+1.05879118e-22j,  2.24295929e-06-1.38751105e-15j,\n",
       "        2.65929029e-07-1.38167384e-15j,  2.79121072e-08+7.35707765e-16j,\n",
       "        2.59359725e-09-6.57438221e-17j,  2.13349211e-10-5.40038907e-16j,\n",
       "        1.55392358e-11+2.48846917e-16j,  1.00016744e-12-8.56889187e-16j,\n",
       "        6.22814163e-14+4.65310589e-17j,  1.88030848e-15-1.55469220e-16j,\n",
       "       -1.36444699e-15+4.85178260e-16j, -1.48416818e-15-3.90308581e-16j,\n",
       "        1.10675157e-15-8.99095068e-16j,  2.91409714e-16+7.25636074e-16j,\n",
       "       -4.27751616e-15+1.75774459e-16j,  2.74702732e-15-1.09058982e-16j,\n",
       "        0.00000000e+00-0.00000000e+00j,  4.18063535e-16-7.80774784e-16j,\n",
       "        3.66470740e-15+8.02649697e-16j,  7.63581549e-16-6.28612403e-16j,\n",
       "        6.81646953e-15-8.05524615e-16j, -1.73548745e-15-2.89870156e-16j,\n",
       "        4.03481714e-16+2.54037545e-16j, -3.69116273e-16+2.97571744e-16j,\n",
       "       -4.86658551e-15+4.37845034e-17j, -2.43993637e-15+1.40376143e-16j,\n",
       "       -4.06948400e-15+4.36916690e-17j,  1.66752608e-15-1.04478483e-15j,\n",
       "        4.10273630e-15+3.34107542e-16j,  2.11189693e-15-4.81327852e-16j,\n",
       "        3.74094423e-16+4.13679145e-17j,  2.46220746e-15-2.02760634e-16j,\n",
       "        4.18131892e-15+2.48063019e-22j,  4.85590466e-15-4.17418105e-16j,\n",
       "        4.10382572e-15+1.11562923e-16j,  7.69780085e-16+5.92435862e-16j,\n",
       "       -1.92703898e-15+4.73173500e-16j,  1.76075418e-16-7.00105854e-17j,\n",
       "       -3.59222095e-15-8.70090128e-17j,  8.65211614e-16+1.10332921e-16j,\n",
       "       -8.95830645e-15+4.69924338e-17j,  3.03834582e-15+1.70291431e-16j,\n",
       "       -1.08939102e-15+2.64837684e-16j, -1.97580722e-16-1.30555513e-16j,\n",
       "        2.23626763e-16-1.72227280e-16j, -2.75379601e-15+1.40951730e-15j,\n",
       "       -1.53912458e-15+1.59640926e-15j, -2.90410479e-15-9.63505605e-16j,\n",
       "        0.00000000e+00+0.00000000e+00j, -2.86552361e-15-1.27169317e-15j,\n",
       "       -6.51939107e-16+1.09966908e-15j, -6.31543791e-16+7.79622412e-16j,\n",
       "        1.84965816e-15-8.66828814e-17j,  1.72453967e-15+1.22763016e-16j,\n",
       "        9.25950520e-16+2.50349976e-16j,  1.22977258e-15-7.39290977e-16j,\n",
       "       -1.03456025e-14-5.43829154e-18j, -8.04968159e-17-6.59333682e-16j,\n",
       "        2.69879651e-15+3.23262273e-16j, -9.64609214e-16+3.66133920e-16j,\n",
       "       -5.90856309e-15+2.93799619e-17j,  4.60639693e-16+5.51074888e-17j,\n",
       "       -1.88783465e-15+9.19462739e-16j,  2.60964330e-16-5.49400757e-16j,\n",
       "        2.01631923e-14+9.41153071e-23j, -9.71772791e-16-6.60302529e-16j,\n",
       "       -1.39004249e-15+1.10236708e-16j, -7.22024000e-16-2.32699584e-16j,\n",
       "       -1.63895971e-16-2.69232132e-16j,  5.63395381e-16-1.36422674e-17j,\n",
       "        4.07250496e-15-4.62909945e-17j,  3.23362019e-15-7.15939077e-16j,\n",
       "        8.27501010e-15+7.66632117e-18j,  2.40700981e-16-5.24348053e-16j,\n",
       "        1.56904354e-15+1.18960881e-16j, -8.97800268e-17-2.43907007e-16j,\n",
       "       -2.85988796e-15-3.32218305e-16j, -5.10275520e-16-6.98284330e-16j,\n",
       "       -2.30047471e-15-5.58307830e-16j,  1.16835270e-15+6.07577585e-16j,\n",
       "        0.00000000e+00+0.00000000e+00j, -3.97775816e-16+9.05363034e-17j,\n",
       "        1.89298568e-15-4.00997144e-16j, -1.83400484e-16-1.22664725e-15j,\n",
       "       -3.36979943e-15-2.02086846e-16j, -1.51562615e-15+6.15446006e-17j,\n",
       "        4.10848967e-16+2.97548398e-16j, -1.74467126e-15-9.72870349e-16j,\n",
       "       -2.24910880e-15+1.98436257e-17j, -1.19550173e-15-5.56954967e-16j,\n",
       "       -1.80850072e-15+2.69003140e-18j,  1.28745303e-16-2.68011290e-16j,\n",
       "        2.20535758e-15+1.29148295e-16j, -3.93051340e-16-1.63228493e-16j,\n",
       "       -3.94327380e-15-8.70446279e-16j, -8.16962746e-16-6.78163000e-16j,\n",
       "       -9.32452463e-15+1.85416143e-23j, -1.79904418e-15-5.23576299e-17j,\n",
       "        1.66545615e-15-3.64870044e-16j, -1.04220929e-16-6.26823451e-17j,\n",
       "        2.13745049e-15+1.23113825e-16j,  1.31493418e-15-2.99981439e-16j,\n",
       "        8.71250242e-16+1.06448708e-16j,  3.67222987e-15-2.55456202e-16j,\n",
       "       -1.70237481e-15-4.17955347e-17j, -5.63093553e-16-4.56182169e-16j,\n",
       "       -7.90702298e-16-3.82834279e-16j,  1.15732786e-15+1.03697475e-15j,\n",
       "        5.51540406e-15+3.07303902e-16j,  7.79477250e-16-9.42127349e-16j,\n",
       "        5.08150245e-15-1.79393685e-15j,  1.66482143e-15-1.10386399e-15j,\n",
       "        0.00000000e+00-0.00000000e+00j,  8.45352394e-16-1.40077758e-15j,\n",
       "        2.03957332e-15-1.69071306e-15j,  1.03153837e-15-8.41825967e-16j,\n",
       "       -5.31431573e-15+2.25690577e-16j, -7.66521388e-16+3.31228421e-16j,\n",
       "       -5.98494917e-15+1.23267952e-16j, -1.06846261e-15-1.14853082e-16j,\n",
       "       -4.41691676e-15-2.99344856e-17j, -4.89450054e-16+1.40797466e-16j,\n",
       "        3.15583876e-16-1.43470579e-16j,  4.51989417e-16+5.21396020e-17j,\n",
       "        4.61670117e-15-1.43885786e-16j,  9.86115290e-17-4.85694701e-16j,\n",
       "        3.20469016e-15+4.81290993e-16j,  2.45964113e-15-3.37715237e-17j,\n",
       "       -3.04297876e-15-1.75244025e-22j,  3.53342888e-15+1.85316215e-16j,\n",
       "        7.66742580e-15+8.37976436e-17j,  3.00410103e-15-4.88281401e-16j,\n",
       "        4.14180131e-15+1.32214724e-16j,  3.66835564e-15+1.81596555e-16j,\n",
       "        5.90749574e-15-1.71553008e-16j, -1.29704752e-15+4.32365800e-17j,\n",
       "        3.79678446e-15+1.05707238e-17j,  5.06734186e-16+8.60237272e-18j,\n",
       "       -2.23601557e-15-9.20267886e-17j, -7.58664881e-17-1.31412736e-16j,\n",
       "        6.22834196e-15+3.26078707e-16j,  1.59884465e-15+8.42041685e-16j,\n",
       "        3.30022108e-15+9.24815013e-17j,  7.43913220e-16+2.33884629e-15j,\n",
       "        0.00000000e+00+0.00000000e+00j, -1.47156636e-15+2.12809720e-15j,\n",
       "        6.12608424e-15-5.87026348e-16j,  2.68499772e-16+4.05388790e-16j,\n",
       "        5.27285399e-15-2.08489899e-16j, -1.71144249e-15-3.94367588e-16j,\n",
       "        2.57180015e-16+1.01551287e-16j,  7.48436822e-16-4.83279178e-16j,\n",
       "       -1.01644264e-14+1.21193191e-17j, -1.97254660e-15-7.74033520e-16j,\n",
       "       -2.58048009e-15+1.52020182e-16j,  1.57725097e-15+8.04144851e-17j,\n",
       "       -4.57338406e-15-8.69253722e-17j, -1.21491783e-15+3.54034236e-16j,\n",
       "        1.47150479e-15-3.70632661e-16j,  1.41854827e-15-1.20978698e-16j,\n",
       "       -4.34953502e-15-8.21306241e-23j,  1.39369575e-15-4.11484859e-16j,\n",
       "        4.08965091e-15+5.10101457e-16j, -5.68767766e-16+5.60138489e-16j,\n",
       "        1.83556105e-15+3.27695219e-16j,  4.38064921e-16+1.52430232e-16j,\n",
       "        2.76176870e-15+1.22883738e-16j, -1.08132018e-15-2.41394653e-16j,\n",
       "        3.92781234e-15-4.09960485e-17j, -5.70960307e-16-8.39503390e-17j,\n",
       "       -7.34147827e-16+1.79615815e-16j, -1.82456245e-15+2.17133374e-16j,\n",
       "       -3.07360033e-15-5.92479314e-16j, -2.25266555e-15-6.98191481e-17j,\n",
       "       -2.37971118e-15+3.43833220e-15j, -2.55051922e-15+2.35750913e-16j,\n",
       "        0.00000000e+00+0.00000000e+00j, -2.06981799e-15+8.41326723e-16j,\n",
       "        1.28562657e-15+2.64948035e-15j, -1.23039051e-15-2.70557864e-17j,\n",
       "       -4.70873923e-16-4.24182118e-16j,  4.25193393e-16+1.22745068e-16j,\n",
       "       -2.68555697e-16+4.56744275e-16j,  3.29417843e-16+6.89215429e-17j,\n",
       "        1.77182742e-15-1.15090052e-17j, -1.57162745e-15-1.91226724e-16j,\n",
       "       -2.49283502e-15+3.09352864e-16j, -5.91585984e-16+3.45375605e-16j,\n",
       "        5.75372977e-15-7.58856177e-17j,  1.30666955e-15+9.56188637e-16j,\n",
       "       -4.26512210e-15-8.53264049e-16j,  1.14906975e-15-9.92967860e-16j,\n",
       "        1.70357978e-14-3.90777309e-23j,  1.83622982e-16-1.10818838e-15j,\n",
       "        4.68570402e-16+2.71534267e-16j, -8.50999582e-16+7.42140801e-16j,\n",
       "       -1.83936480e-15-4.50590083e-17j,  6.89154872e-16+3.64146165e-17j,\n",
       "       -1.65720659e-15+9.30734841e-17j,  1.49771783e-15-1.72892137e-16j,\n",
       "       -1.18570515e-14+1.02978436e-18j,  4.14669953e-16-8.66505346e-17j,\n",
       "       -4.56238053e-15+1.89026191e-16j, -3.01080583e-16+4.56332702e-16j,\n",
       "        3.97493233e-16-3.55179428e-16j, -3.07808126e-15-9.04747664e-16j,\n",
       "       -2.21360880e-15-8.76112297e-16j, -1.80097275e-15+1.95142250e-15j,\n",
       "        0.00000000e+00+0.00000000e+00j, -3.61670290e-16+1.79669326e-15j,\n",
       "       -8.27543486e-16-7.77376973e-16j, -1.26745381e-15-7.46837119e-16j,\n",
       "        1.44210635e-15+1.09972265e-16j, -2.60079129e-15-2.95039099e-17j,\n",
       "       -2.41674755e-15-2.49865344e-16j, -1.81659131e-15-2.44240176e-17j,\n",
       "        7.51161083e-15-1.77626247e-18j,  5.39612994e-16-2.70096997e-16j,\n",
       "        4.05102629e-16-6.77652513e-17j,  1.13476567e-15-4.42424087e-17j,\n",
       "        2.77962063e-15+3.16920947e-18j,  3.81607174e-15+1.31686187e-17j,\n",
       "        5.34581785e-15+7.47852513e-16j,  4.28464337e-15-1.20031103e-15j,\n",
       "       -9.29802190e-15-1.05879118e-22j,  5.49866684e-16-1.28782550e-15j,\n",
       "       -1.60292515e-16+1.12945067e-16j,  1.20327468e-15+6.52296685e-16j,\n",
       "       -2.30989273e-16+8.89045781e-17j,  3.13854845e-15+4.31512465e-17j,\n",
       "        3.38748127e-15-1.64798730e-17j,  2.10248485e-15+4.92661467e-16j,\n",
       "       -6.35949626e-15+1.07552856e-16j, -2.33146835e-15+5.70724024e-16j,\n",
       "        3.27515792e-15-3.40005801e-16j, -3.33066907e-15-8.32667268e-16j,\n",
       "       -7.74380560e-15+1.88737914e-15j, -3.83026943e-15-8.32667268e-17j,\n",
       "        8.60422844e-16-2.22044605e-16j, -4.99600361e-16+1.66533454e-16j,\n",
       "        0.00000000e+00+0.00000000e+00j,  4.99600361e-16-1.66533454e-16j,\n",
       "       -8.60422844e-16+2.22044605e-16j, -3.27515792e-15+8.32667268e-17j,\n",
       "        6.38378239e-16+1.66533454e-15j, -2.22044605e-16-9.43689571e-16j,\n",
       "        2.94209102e-15-5.48172618e-16j, -1.66533454e-15+3.17454396e-16j,\n",
       "       -7.18522464e-15+1.14491749e-16j, -9.92261828e-16+5.06539255e-16j,\n",
       "       -2.86012533e-15+1.41379963e-16j, -6.96057795e-16-1.33356867e-16j,\n",
       "        2.81746198e-15+2.13804668e-16j,  7.90789960e-16-2.82800584e-16j,\n",
       "        2.30088707e-15-4.15329053e-16j,  2.07204588e-15-2.30423455e-16j,\n",
       "        2.62956021e-15+1.05879118e-22j,  1.03929900e-15-1.92183815e-16j,\n",
       "        5.48732078e-15-4.47559772e-16j,  1.28154976e-15-2.40148572e-16j,\n",
       "       -2.67929449e-16+4.54143945e-16j,  1.33956103e-16+2.70235207e-17j,\n",
       "        1.21678067e-15+4.40435387e-16j, -1.39742192e-15-4.12512307e-17j,\n",
       "        2.13834803e-15+2.91257784e-18j, -1.13492965e-15+2.99628831e-16j,\n",
       "        2.67566315e-15-7.08883080e-17j,  1.43229598e-15+2.64131127e-16j,\n",
       "        2.06997578e-15-8.07906146e-16j, -2.51249122e-15+1.94010527e-16j,\n",
       "       -3.11793200e-15-5.62454334e-16j, -1.07219772e-15+6.02199811e-16j,\n",
       "        0.00000000e+00+0.00000000e+00j, -1.13943541e-15+1.29706935e-15j,\n",
       "       -7.19081258e-15-2.89459725e-16j,  7.45294088e-17-2.85002661e-16j,\n",
       "        1.19458183e-15-9.00753527e-16j,  8.99460850e-16+6.50269214e-17j,\n",
       "       -4.23089006e-15-3.65458744e-17j,  5.65217408e-16-5.72396410e-16j,\n",
       "        5.96540681e-16-3.99639641e-18j, -7.56965930e-16-6.92954880e-17j,\n",
       "        1.59765483e-15+8.98926239e-17j, -9.20708162e-16-1.67871253e-16j,\n",
       "       -3.53523782e-15+1.14412648e-16j, -1.68788065e-15+6.03402060e-17j,\n",
       "        1.70969786e-16+1.29975999e-15j,  1.21071304e-15-4.62959942e-16j,\n",
       "        8.62674707e-15-1.25036259e-22j, -2.54381231e-15-3.61713169e-16j,\n",
       "       -2.00679699e-16+1.32803096e-15j, -4.14848143e-15-1.19507083e-15j,\n",
       "       -1.86517506e-15-8.64235343e-17j, -3.44433317e-15-1.48402713e-16j,\n",
       "       -8.44576062e-16+6.58774496e-18j, -8.78731211e-16-4.87329887e-16j,\n",
       "       -4.64370838e-17+4.53655962e-17j, -8.75808239e-16-1.53380389e-16j,\n",
       "       -1.88513996e-15-5.35163101e-17j, -6.26507201e-16+2.72904651e-16j,\n",
       "       -1.35583513e-15-1.10954195e-15j,  1.29020140e-15-7.68050977e-16j,\n",
       "        5.67879635e-15-8.68203020e-16j,  1.07369342e-15+1.50675456e-15j,\n",
       "        0.00000000e+00+0.00000000e+00j, -1.03333758e-15+2.08035510e-15j,\n",
       "       -2.05405441e-15-4.66415601e-16j, -8.72989643e-17-4.97360674e-16j,\n",
       "       -3.90858168e-15-1.17323657e-15j, -2.64750250e-15+2.06578668e-16j,\n",
       "       -2.37029272e-15+6.06535304e-17j, -8.63987473e-16-3.05624539e-16j,\n",
       "       -9.36735169e-15+3.95279395e-17j,  9.23790628e-16-9.37889812e-16j,\n",
       "        7.98327994e-17+1.39846937e-17j,  1.58615748e-15+7.19328329e-17j,\n",
       "       -4.95893843e-15+3.00855571e-16j,  8.77001750e-16-4.90894600e-16j,\n",
       "       -5.78288408e-15-5.62862402e-16j, -2.26120268e-16+3.37024067e-16j,\n",
       "       -1.42802230e-14-1.22867066e-23j, -1.63180037e-15+6.86530424e-17j,\n",
       "        2.20347295e-15+9.86634189e-17j, -8.30495513e-16+2.16836258e-16j,\n",
       "        2.65967870e-15+6.57823167e-19j, -7.62045458e-16+4.88386691e-16j,\n",
       "       -6.88190996e-16-2.20007737e-16j, -1.18957052e-15+5.35459630e-16j,\n",
       "       -5.78600240e-16-1.28845872e-18j,  9.95145300e-16+8.18161623e-16j,\n",
       "        2.65816373e-15+4.92023663e-17j,  1.66550287e-15-5.53680888e-16j,\n",
       "       -7.71942196e-15+3.15780783e-18j,  2.19656347e-15-4.87213758e-17j,\n",
       "       -2.61772919e-15+1.34759017e-15j,  1.68252906e-15+1.14388903e-15j,\n",
       "        0.00000000e+00+0.00000000e+00j, -3.32165905e-17+4.13727115e-16j,\n",
       "        1.17645251e-16+1.72738282e-15j, -2.50597938e-16+1.96198881e-16j,\n",
       "       -2.13701337e-15-5.72247850e-17j, -1.13582030e-16-5.30638334e-16j,\n",
       "        1.27259781e-15+2.97580070e-17j, -2.16099283e-16+6.10848427e-17j,\n",
       "        3.88452018e-15-4.54317355e-18j, -1.15166715e-15-1.90051608e-16j,\n",
       "        1.25467593e-15+4.87556714e-18j,  2.37228212e-15-2.79788225e-16j,\n",
       "       -3.92438539e-15+1.23826965e-16j,  4.94039779e-16-4.56356933e-16j,\n",
       "       -1.41671385e-16+1.30862027e-16j,  1.11076700e-15+9.08413401e-16j,\n",
       "       -1.28529671e-15+5.27293361e-22j,  6.14179739e-16+1.11139699e-15j,\n",
       "        2.09095784e-15-3.27823031e-16j, -9.99718457e-16+2.96413910e-16j,\n",
       "       -7.44698899e-15+2.18965096e-16j, -3.83332177e-16-4.21823662e-16j,\n",
       "       -2.94701465e-15-3.11211456e-16j,  3.82356669e-16+3.76594375e-16j,\n",
       "       -3.21766238e-15-4.32978861e-18j,  9.28558932e-16+5.35891344e-17j,\n",
       "        4.73933249e-15-3.15558950e-16j, -7.31130572e-16+6.26851497e-16j,\n",
       "        2.59754573e-15+2.03246528e-16j,  2.56553593e-15+1.05830752e-15j,\n",
       "        4.20174402e-15+1.28674673e-15j, -1.17839422e-15-1.51588712e-15j,\n",
       "        0.00000000e+00+0.00000000e+00j, -1.33177960e-15-9.96928933e-16j,\n",
       "        2.88803492e-15+2.29374597e-15j, -8.23837873e-16+8.46983837e-16j,\n",
       "       -2.79863407e-15+6.28152484e-17j, -1.43603273e-15+6.66464007e-16j,\n",
       "        2.03631898e-15-1.27771790e-16j, -1.85181188e-16-5.72234602e-16j,\n",
       "        4.45197264e-15+2.54425258e-17j, -1.23445106e-16-4.49870715e-16j,\n",
       "       -2.59744484e-15+3.86266488e-16j,  1.50298845e-15+4.30820750e-16j,\n",
       "       -2.20154879e-15+1.10841553e-17j, -6.13169146e-16-1.62591177e-17j,\n",
       "       -1.54340010e-15-2.01312417e-16j,  8.56622485e-16-3.57370503e-16j,\n",
       "        4.20647913e-16+7.21079000e-22j, -1.15736326e-15-1.35693341e-16j,\n",
       "        1.10656022e-15-4.85473996e-16j, -1.01426633e-15-5.18067911e-17j,\n",
       "        2.59002958e-15+1.99872509e-16j, -1.17876382e-15+7.01314672e-17j,\n",
       "       -1.76818982e-15+3.60060680e-16j,  7.98711776e-16-2.08317152e-17j,\n",
       "       -1.11886770e-14+1.09787493e-17j,  1.89891203e-15-9.42576001e-17j,\n",
       "       -3.98526574e-15+3.72043933e-17j, -3.22348006e-17+1.23066254e-16j,\n",
       "       -4.98164409e-15-9.21720385e-17j,  1.46056442e-15-6.87716969e-16j,\n",
       "       -2.32345401e-15+3.37671468e-17j,  1.67537407e-15+9.56599951e-17j,\n",
       "        0.00000000e+00+0.00000000e+00j,  2.64810578e-15+1.03512909e-16j,\n",
       "        1.22739189e-15+1.40528268e-16j,  6.97659509e-16-4.05264099e-16j,\n",
       "        4.64189761e-15-1.17238888e-16j, -1.49515894e-16+1.96142385e-16j,\n",
       "       -2.51204837e-15+1.09333852e-16j,  3.36660214e-15+1.38672752e-17j,\n",
       "        2.05874944e-15-3.11606478e-18j,  2.43434002e-15+1.64664596e-16j,\n",
       "        4.30011597e-15-3.84047958e-17j,  3.99613388e-16+1.95501462e-16j,\n",
       "        1.64623508e-15-9.07952701e-17j,  4.53551353e-16-8.07203901e-16j,\n",
       "        3.26967482e-15+2.69076399e-16j,  1.42369487e-15-2.54057359e-16j,\n",
       "        4.41473220e-15+1.63959225e-22j,  1.10902182e-15-3.56237124e-16j,\n",
       "       -2.99902971e-15+1.18002690e-15j, -1.50775746e-15-4.07908552e-16j,\n",
       "       -5.24765267e-15+7.52764356e-18j, -3.75264776e-16+3.65433801e-16j,\n",
       "        2.73770242e-15-1.84623171e-16j,  1.97968874e-15-3.91322588e-16j,\n",
       "       -2.71394929e-15-8.18103046e-18j,  2.84195488e-15-8.70759557e-16j,\n",
       "       -2.76200244e-15-2.84945943e-16j, -1.39054587e-16+1.12208310e-16j,\n",
       "       -1.96546665e-16-8.89484741e-16j, -5.81205374e-16+4.63103188e-16j,\n",
       "       -1.57563345e-15-1.69485569e-15j, -3.43160451e-15+4.61888716e-16j,\n",
       "        0.00000000e+00+0.00000000e+00j, -4.29640432e-16-1.87055461e-16j,\n",
       "        1.23603981e-15-3.03149714e-15j, -8.58728556e-16+5.57499807e-16j,\n",
       "        6.93215281e-15-6.35542509e-16j,  1.50911756e-15+1.96040703e-17j,\n",
       "        1.89973361e-16+1.70910733e-16j, -2.43753798e-16+3.01873088e-16j,\n",
       "       -8.68490650e-15-3.49108428e-17j, -4.34071075e-16+3.48524589e-16j,\n",
       "       -6.31671643e-15+6.47234193e-17j, -2.38440472e-16-1.64802504e-16j,\n",
       "        1.13431515e-15+1.89633476e-16j, -9.20474622e-16+9.64941837e-20j,\n",
       "       -4.69531883e-15-1.24763833e-16j, -1.63539275e-15-1.47619478e-16j,\n",
       "        7.25562914e-15+1.62104490e-22j, -9.59437357e-16+2.26415746e-16j,\n",
       "       -2.12425300e-15-1.52301710e-16j,  8.40806548e-16+7.09575455e-16j,\n",
       "       -1.02498336e-15+2.75237143e-16j, -7.86462912e-16+6.04843966e-16j,\n",
       "       -5.30424498e-15+1.10262612e-16j, -6.33562179e-16-6.99522501e-17j,\n",
       "        1.16042270e-14-8.76771498e-18j, -2.89934692e-17+1.40349636e-18j,\n",
       "       -6.87977397e-16+3.48743127e-16j, -4.07249298e-16+7.93895470e-16j,\n",
       "       -7.81225066e-15-6.54666947e-16j, -1.51831254e-16+5.35444772e-16j,\n",
       "       -5.34781340e-15-4.42916600e-16j,  2.49119141e-15+1.77029004e-16j,\n",
       "        0.00000000e+00+0.00000000e+00j, -1.92294803e-16-4.61742166e-16j,\n",
       "       -3.23005913e-16-5.17699960e-16j,  6.02478988e-16-4.60185884e-16j,\n",
       "       -7.39588172e-15-6.30655124e-16j, -8.85862361e-16+3.51604002e-16j,\n",
       "       -1.46206142e-15+4.47073931e-18j, -2.64179079e-15+3.23822894e-17j,\n",
       "        1.37382113e-15+7.31749061e-18j, -2.21045666e-15-4.37556937e-16j,\n",
       "       -9.88283857e-16+7.27158018e-17j, -1.01063460e-15+1.63051654e-16j,\n",
       "        4.17062216e-15+1.55147165e-16j,  1.43748529e-15+2.07362790e-16j,\n",
       "        3.53425921e-15+4.02096485e-16j, -9.34819442e-17+1.67185842e-15j,\n",
       "        9.86584166e-15+3.17637355e-22j,  1.81083447e-15+2.06039240e-15j,\n",
       "        7.26415456e-16+6.84495795e-16j,  1.22796738e-15-1.44131126e-16j,\n",
       "       -6.62057215e-15+2.87150945e-16j, -2.52575738e-15+3.29814301e-16j,\n",
       "       -5.53723734e-15+7.24247051e-17j, -7.21644966e-16+2.42861287e-16j,\n",
       "        6.21724894e-15+0.00000000e+00j, -8.88178420e-16+4.33680869e-17j,\n",
       "       -1.77635684e-15-6.93889390e-18j, -1.77635684e-15+1.66533454e-16j,\n",
       "        0.00000000e+00+4.16333634e-16j,  0.00000000e+00+1.94289029e-16j,\n",
       "       -7.10542736e-15+1.38777878e-16j, -7.10542736e-15+0.00000000e+00j,\n",
       "        0.00000000e+00+0.00000000e+00j])"
      ]
     },
     "execution_count": 69,
     "metadata": {},
     "output_type": "execute_result"
    }
   ],
   "source": [
    "fft_presyn_weight_kernel"
   ]
  },
  {
   "cell_type": "code",
   "execution_count": 34,
   "metadata": {},
   "outputs": [
    {
     "name": "stderr",
     "output_type": "stream",
     "text": [
      "WARNING    /Users/john/Library/Python/3.7/lib/python/site-packages/numpy/core/_asarray.py:83: ComplexWarning: Casting complex values to real discards the imaginary part\n",
      "  return array(a, dtype, copy=False, order=order)\n",
      " [py.warnings]\n"
     ]
    },
    {
     "data": {
      "text/plain": [
       "[<matplotlib.lines.Line2D at 0x1248f7450>]"
      ]
     },
     "execution_count": 34,
     "metadata": {},
     "output_type": "execute_result"
    },
    {
     "data": {
      "image/png": "[encoded data removed]",
      "text/plain": [
       "<Figure size 432x288 with 1 Axes>"
      ]
     },
     "metadata": {
      "needs_background": "light"
     },
     "output_type": "display_data"
    }
   ],
   "source": [
    "plt.plot(fft_presyn_weight_kernel)"
   ]
  },
  {
   "cell_type": "code",
   "execution_count": 38,
   "metadata": {},
   "outputs": [
    {
     "data": {
      "text/plain": [
       "[<matplotlib.lines.Line2D at 0x124a4b650>]"
      ]
     },
     "execution_count": 38,
     "metadata": {},
     "output_type": "execute_result"
    },
    {
     "data": {
      "image/png": "[encoded data removed]",
      "text/plain": [
       "<Figure size 432x288 with 1 Axes>"
      ]
     },
     "metadata": {
      "needs_background": "light"
     },
     "output_type": "display_data"
    }
   ],
   "source": [
    "plt.plot(weight_profile_45)"
   ]
  },
  {
   "cell_type": "code",
   "execution_count": 40,
   "metadata": {},
   "outputs": [
    {
     "data": {
      "text/plain": [
       "128"
      ]
     },
     "execution_count": 40,
     "metadata": {},
     "output_type": "execute_result"
    }
   ],
   "source": [
    "rot_dist"
   ]
  },
  {
   "cell_type": "code",
   "execution_count": 41,
   "metadata": {},
   "outputs": [
    {
     "data": {
      "text/plain": [
       "[<matplotlib.lines.Line2D at 0x124a67710>]"
      ]
     },
     "execution_count": 41,
     "metadata": {},
     "output_type": "execute_result"
    },
    {
     "data": {
      "image/png": "[encoded data removed]",
      "text/plain": [
       "<Figure size 432x288 with 1 Axes>"
      ]
     },
     "metadata": {
      "needs_background": "light"
     },
     "output_type": "display_data"
    }
   ],
   "source": [
    "plt.plot(weight_profile_45)"
   ]
  },
  {
   "cell_type": "code",
   "execution_count": 42,
   "metadata": {},
   "outputs": [
    {
     "data": {
      "text/plain": [
       "1024"
      ]
     },
     "execution_count": 42,
     "metadata": {},
     "output_type": "execute_result"
    }
   ],
   "source": [
    "len(weight_profile_45)"
   ]
  },
  {
   "cell_type": "code",
   "execution_count": 43,
   "metadata": {},
   "outputs": [
    {
     "data": {
      "text/plain": [
       "128.0"
      ]
     },
     "execution_count": 43,
     "metadata": {},
     "output_type": "execute_result"
    }
   ],
   "source": [
    "1024/8"
   ]
  },
  {
   "cell_type": "code",
   "execution_count": 70,
   "metadata": {},
   "outputs": [
    {
     "data": {
      "text/plain": [
       "array([[1., 1., 1., ..., 1., 1., 1.],\n",
       "       [1., 1., 1., ..., 1., 1., 1.],\n",
       "       [1., 1., 1., ..., 1., 1., 1.],\n",
       "       ...,\n",
       "       [1., 1., 1., ..., 1., 1., 1.],\n",
       "       [1., 1., 1., ..., 1., 1., 1.],\n",
       "       [1., 1., 1., ..., 1., 1., 1.]])"
      ]
     },
     "execution_count": 70,
     "metadata": {},
     "output_type": "execute_result"
    }
   ],
   "source": [
    "excit_pop = numpy.ones((1024,1024))\n",
    "excit_pop"
   ]
  },
  {
   "cell_type": "code",
   "execution_count": 71,
   "metadata": {},
   "outputs": [
    {
     "data": {
      "text/plain": [
       "array([[1024.+0.j,    0.+0.j,    0.-0.j, ...,    0.+0.j,    0.+0.j,\n",
       "           0.+0.j],\n",
       "       [1024.+0.j,    0.+0.j,    0.-0.j, ...,    0.+0.j,    0.+0.j,\n",
       "           0.+0.j],\n",
       "       [1024.+0.j,    0.+0.j,    0.-0.j, ...,    0.+0.j,    0.+0.j,\n",
       "           0.+0.j],\n",
       "       ...,\n",
       "       [1024.+0.j,    0.+0.j,    0.-0.j, ...,    0.+0.j,    0.+0.j,\n",
       "           0.+0.j],\n",
       "       [1024.+0.j,    0.+0.j,    0.-0.j, ...,    0.+0.j,    0.+0.j,\n",
       "           0.+0.j],\n",
       "       [1024.+0.j,    0.+0.j,    0.-0.j, ...,    0.+0.j,    0.+0.j,\n",
       "           0.+0.j]])"
      ]
     },
     "execution_count": 71,
     "metadata": {},
     "output_type": "execute_result"
    }
   ],
   "source": [
    "fft_s_NMDA = rfft(excit_pop)\n",
    "fft_s_NMDA"
   ]
  },
  {
   "cell_type": "code",
   "execution_count": 72,
   "metadata": {},
   "outputs": [
    {
     "data": {
      "text/plain": [
       "array([[1048576.+0.j,       0.+0.j,       0.-0.j, ...,      -0.+0.j,\n",
       "             -0.+0.j,       0.+0.j],\n",
       "       [1048576.+0.j,       0.+0.j,       0.-0.j, ...,      -0.+0.j,\n",
       "             -0.+0.j,       0.+0.j],\n",
       "       [1048576.+0.j,       0.+0.j,       0.-0.j, ...,      -0.+0.j,\n",
       "             -0.+0.j,       0.+0.j],\n",
       "       ...,\n",
       "       [1048576.+0.j,       0.+0.j,       0.-0.j, ...,      -0.+0.j,\n",
       "             -0.+0.j,       0.+0.j],\n",
       "       [1048576.+0.j,       0.+0.j,       0.-0.j, ...,      -0.+0.j,\n",
       "             -0.+0.j,       0.+0.j],\n",
       "       [1048576.+0.j,       0.+0.j,       0.-0.j, ...,      -0.+0.j,\n",
       "             -0.+0.j,       0.+0.j]])"
      ]
     },
     "execution_count": 72,
     "metadata": {},
     "output_type": "execute_result"
    }
   ],
   "source": [
    "fft_s_NMDA_total = numpy.multiply(fft_presyn_weight_kernel, fft_s_NMDA)\n",
    "fft_s_NMDA_total"
   ]
  },
  {
   "cell_type": "code",
   "execution_count": null,
   "metadata": {},
   "outputs": [],
   "source": []
  },
  {
   "cell_type": "code",
   "execution_count": 73,
   "metadata": {},
   "outputs": [
    {
     "data": {
      "text/plain": [
       "array([[1024., 1024., 1024., ..., 1024., 1024., 1024.],\n",
       "       [1024., 1024., 1024., ..., 1024., 1024., 1024.],\n",
       "       [1024., 1024., 1024., ..., 1024., 1024., 1024.],\n",
       "       ...,\n",
       "       [1024., 1024., 1024., ..., 1024., 1024., 1024.],\n",
       "       [1024., 1024., 1024., ..., 1024., 1024., 1024.],\n",
       "       [1024., 1024., 1024., ..., 1024., 1024., 1024.]])"
      ]
     },
     "execution_count": 73,
     "metadata": {},
     "output_type": "execute_result"
    }
   ],
   "source": [
    "s_NMDA_tot = irfft(fft_s_NMDA_total)\n",
    "s_NMDA_tot"
   ]
  },
  {
   "cell_type": "code",
   "execution_count": null,
   "metadata": {},
   "outputs": [],
   "source": []
  },
  {
   "cell_type": "code",
   "execution_count": 74,
   "metadata": {},
   "outputs": [],
   "source": [
    "# precompute the weight profile for the recurrent population\n",
    "tmp = math.sqrt(2. * math.pi) * sigma_weight_profile * erf(180. / math.sqrt(2.) / sigma_weight_profile) / 360.\n",
    "Jneg_excit2excit = (1. - Jpos_excit2excit * tmp) / (1. - tmp)\n",
    "presyn_weight_kernel = \\\n",
    "    [(Jneg_excit2excit + # Min\n",
    "      (Jpos_excit2excit - Jneg_excit2excit) * # Range\n",
    "      math.exp(-.5 * (360. * min(j, N_excitatory - j) / N_excitatory) ** 2 / sigma_weight_profile ** 2))\n",
    "     for j in range(N_excitatory)]\n"
   ]
  },
  {
   "cell_type": "code",
   "execution_count": 86,
   "metadata": {},
   "outputs": [
    {
     "data": {
      "text/plain": [
       "(0.13925712636838888, 0.9029277169981036, 1.6, 0.6970722830018965)"
      ]
     },
     "execution_count": 86,
     "metadata": {},
     "output_type": "execute_result"
    }
   ],
   "source": [
    "tmp, Jneg_excit2excit, Jpos_excit2excit, Jpos_excit2excit-Jneg_excit2excit"
   ]
  },
  {
   "cell_type": "code",
   "execution_count": 96,
   "metadata": {},
   "outputs": [
    {
     "data": {
      "text/plain": [
       "0.19789869908361465"
      ]
     },
     "execution_count": 96,
     "metadata": {},
     "output_type": "execute_result"
    }
   ],
   "source": [
    "math.exp(-.5 * (360. * 0.1) ** 2 / sigma_weight_profile ** 2)"
   ]
  },
  {
   "cell_type": "code",
   "execution_count": 113,
   "metadata": {},
   "outputs": [
    {
     "data": {
      "text/plain": [
       "[<matplotlib.lines.Line2D at 0x125d47090>]"
      ]
     },
     "execution_count": 113,
     "metadata": {},
     "output_type": "execute_result"
    },
    {
     "data": {
      "image/png": "[encoded data removed]",
      "text/plain": [
       "<Figure size 432x288 with 1 Axes>"
      ]
     },
     "metadata": {
      "needs_background": "light"
     },
     "output_type": "display_data"
    }
   ],
   "source": [
    "y1 = [math.exp(-.5 * (360. * min(j, N_excitatory - j) / N_excitatory) ** 2 / sigma_weight_profile ** 2) for j in range(N_excitatory)]\n",
    "plt.plot(y1)"
   ]
  },
  {
   "cell_type": "code",
   "execution_count": 122,
   "metadata": {},
   "outputs": [
    {
     "data": {
      "text/plain": [
       "[<matplotlib.lines.Line2D at 0x1264c76d0>]"
      ]
     },
     "execution_count": 122,
     "metadata": {},
     "output_type": "execute_result"
    },
    {
     "data": {
      "image/png": "[encoded data removed]",
      "text/plain": [
       "<Figure size 432x288 with 1 Axes>"
      ]
     },
     "metadata": {
      "needs_background": "light"
     },
     "output_type": "display_data"
    }
   ],
   "source": [
    "from scipy.stats import skewnorm\n",
    "a = 0\n",
    "y2 = [skewnorm.pdf(x=(360. * min(j, N_excitatory - j) / N_excitatory), a=a, scale=sigma_weight_profile) for j in range(N_excitatory)]\n",
    "#plt.plot(y1)\n",
    "plt.plot(y2)"
   ]
  },
  {
   "cell_type": "code",
   "execution_count": 116,
   "metadata": {},
   "outputs": [
    {
     "data": {
      "text/plain": [
       "[<matplotlib.lines.Line2D at 0x12621b2d0>]"
      ]
     },
     "execution_count": 116,
     "metadata": {},
     "output_type": "execute_result"
    },
    {
     "data": {
      "image/png": "[encoded data removed]",
      "text/plain": [
       "<Figure size 432x288 with 1 Axes>"
      ]
     },
     "metadata": {
      "needs_background": "light"
     },
     "output_type": "display_data"
    }
   ],
   "source": [
    "y3 = [(360. * min(j, N_excitatory - j) / N_excitatory) for j in range(N_excitatory)]\n",
    "plt.plot(y3)"
   ]
  },
  {
   "cell_type": "code",
   "execution_count": null,
   "metadata": {},
   "outputs": [],
   "source": []
  },
  {
   "cell_type": "code",
   "execution_count": 273,
   "metadata": {},
   "outputs": [
    {
     "data": {
      "text/plain": [
       "[<matplotlib.lines.Line2D at 0x1293f6bd0>]"
      ]
     },
     "execution_count": 273,
     "metadata": {},
     "output_type": "execute_result"
    },
    {
     "data": {
      "image/png": "[encoded data removed]",
      "text/plain": [
       "<Figure size 432x288 with 1 Axes>"
      ]
     },
     "metadata": {
      "needs_background": "light"
     },
     "output_type": "display_data"
    }
   ],
   "source": [
    "from scipy.stats import skewnorm\n",
    "a = 0\n",
    "scale = 20\n",
    "\n",
    "x = numpy.linspace(-2.5, 2.5, 100)\n",
    "\n",
    "y01 = Jneg_excit2excit + (Jpos_excit2excit - Jneg_excit2excit) * numpy.exp(-.5 * x ** 2 / scale ** 2)\n",
    "y02 = skewnorm.pdf(x, a, loc=0, scale=scale)\n",
    "y02 = Jneg_excit2excit + (Jpos_excit2excit - Jneg_excit2excit) * y02/numpy.max(y02)\n",
    "plt.plot(x, y01)\n",
    "plt.plot(x, y02)"
   ]
  },
  {
   "cell_type": "code",
   "execution_count": 239,
   "metadata": {
    "scrolled": true
   },
   "outputs": [
    {
     "data": {
      "text/plain": [
       "[<matplotlib.lines.Line2D at 0x1272e4710>]"
      ]
     },
     "execution_count": 239,
     "metadata": {},
     "output_type": "execute_result"
    },
    {
     "data": {
      "image/png": "[encoded data removed]",
      "text/plain": [
       "<Figure size 432x288 with 1 Axes>"
      ]
     },
     "metadata": {
      "needs_background": "light"
     },
     "output_type": "display_data"
    }
   ],
   "source": [
    "from scipy.stats import skewnorm\n",
    "a = 1\n",
    "scale = 20\n",
    "\n",
    "x = numpy.linspace(-2.5, 2.5, 100)\n",
    "\n",
    "y01 = numpy.array([Jneg_excit2excit + (Jpos_excit2excit - Jneg_excit2excit) * numpy.exp(-.5 * (360. * min(j, N_excitatory - j) / N_excitatory) ** 2 / scale ** 2) for j in range(N_excitatory)])\n",
    "y02 = numpy.array([skewnorm.pdf((360. * min(j, N_excitatory - j) / N_excitatory), a, loc=0, scale=scale) for j in range(N_excitatory)])\n",
    "y02 = Jneg_excit2excit + (Jpos_excit2excit - Jneg_excit2excit) * y02/numpy.max(y02)\n",
    "#plt.plot(x,y01)\n",
    "#plt.plot(x, y02)\n",
    "\n",
    "fft_presyn_weight_kernel_01 = rfft(y01)\n",
    "weight_profile_45_01 = deque(y01)   # deque: a bouble ended queue data structure\n",
    "rot_dist_01 = int(round(len(weight_profile_45_01) / 8)) # (len(weight_profile_45)==1024==N_excitatory)/8 = 128\n",
    "weight_profile_45_01.rotate(rot_dist_01)                # rotate elements of the deque by 128 positions\n",
    "\n",
    "fft_presyn_weight_kernel_02 = rfft(y02)\n",
    "weight_profile_45_02 = deque(y02)   # deque: a bouble ended queue data structure\n",
    "rot_dist_02 = int(round(len(weight_profile_45_02) / 8)) # (len(weight_profile_45)==1024==N_excitatory)/8 = 128\n",
    "weight_profile_45_02.rotate(rot_dist_02)                # rotate elements of the deque by 128 positions\n",
    "\n",
    "\n",
    "numpy.array_equal(y01, y02)\n",
    "plt.plot(weight_profile_45_01)\n",
    "plt.plot(weight_profile_45_02)\n",
    "#plt.plot(y01-y02)"
   ]
  },
  {
   "cell_type": "code",
   "execution_count": 264,
   "metadata": {},
   "outputs": [
    {
     "data": {
      "text/plain": [
       "[<matplotlib.lines.Line2D at 0x129164c90>]"
      ]
     },
     "execution_count": 264,
     "metadata": {},
     "output_type": "execute_result"
    },
    {
     "data": {
      "image/png": "[encoded data removed]",
      "text/plain": [
       "<Figure size 432x288 with 1 Axes>"
      ]
     },
     "metadata": {
      "needs_background": "light"
     },
     "output_type": "display_data"
    }
   ],
   "source": [
    "a = 4\n",
    "scale = 20\n",
    "\n",
    "x = numpy.linspace(-2.5, 2.5, 100)\n",
    "\n",
    "y01 = numpy.array([Jneg_excit2excit + (Jpos_excit2excit - Jneg_excit2excit) * numpy.exp(-.5 * (360. * min(j, N_excitatory - j) / N_excitatory) ** 2 / scale ** 2) for j in range(N_excitatory)])\n",
    "y01 = numpy.array([Jneg_excit2excit + (Jpos_excit2excit - Jneg_excit2excit) * numpy.exp(-.5 * (360. * (j - N_excitatory / 2) / N_excitatory) ** 2 / scale ** 2) for j in range(N_excitatory)])\n",
    "\n",
    "fft_presyn_weight_kernel_01 = rfft(y01)\n",
    "weight_profile_45_01 = deque(y01)   # deque: a bouble ended queue data structure\n",
    "rot_dist_01 = int(round(len(weight_profile_45_01) / 2)) # (len(weight_profile_45)==1024==N_excitatory)/8 = 128\n",
    "weight_profile_45_01.rotate(rot_dist_01)                # rotate elements of the deque by 128 positions\n",
    "\n",
    "#plt.plot(y01)\n",
    "plt.plot(weight_profile_45_01)\n",
    "\n",
    "y02 = numpy.array([skewnorm.pdf((360. * min(j, N_excitatory - j) / N_excitatory), a, loc=0, scale=scale) for j in range(N_excitatory)])\n",
    "y02 = numpy.array([skewnorm.pdf((360. * (j - N_excitatory / 2) / N_excitatory), a, loc=0, scale=scale) for j in range(N_excitatory)])\n",
    "y02 = Jneg_excit2excit + (Jpos_excit2excit - Jneg_excit2excit) * y02/numpy.max(y02)\n",
    "\n",
    "fft_presyn_weight_kernel_02 = rfft(y02)\n",
    "weight_profile_45_02 = deque(y02)   # deque: a bouble ended queue data structure\n",
    "rot_dist_02 = int(round(len(weight_profile_45_02) / 2)) # (len(weight_profile_45)==1024==N_excitatory)/8 = 128\n",
    "weight_profile_45_02.rotate(rot_dist_02)                # rotate elements of the deque by 128 positions\n",
    "\n",
    "#plt.plot(y02)\n",
    "plt.plot(weight_profile_45_02)"
   ]
  },
  {
   "cell_type": "code",
   "execution_count": 267,
   "metadata": {},
   "outputs": [
    {
     "data": {
      "text/plain": [
       "[1.3021684495328987,\n",
       " 1.3244827820344625,\n",
       " 1.3465428284088503,\n",
       " 1.3682197679867143,\n",
       " 1.3893888407623263,\n",
       " 1.4099311930745766,\n",
       " 1.4297355756064654,\n",
       " 1.4486998528837356,\n",
       " 1.466732290109117,\n",
       " 1.4837525908965872,\n",
       " 1.4996926679252618,\n",
       " 1.5144971373463474,\n",
       " 1.5281235365763228,\n",
       " 1.5405422735373766,\n",
       " 1.5517363231370518,\n",
       " 1.5617006935354634,\n",
       " 1.5704416903120835,\n",
       " 1.5779760108635146,\n",
       " 1.5843297041579776,\n",
       " 1.5895370323304119,\n",
       " 1.593639270578537,\n",
       " 1.5966834805273122,\n",
       " 1.5987212898267855,\n",
       " 1.5998077074318449,\n",
       " 1.6,\n",
       " 1.5993566503629593,\n",
       " 1.5979364143048425,\n",
       " 1.5957974871265534,\n",
       " 1.5929967868819688,\n",
       " 1.5895893568980577,\n",
       " 1.585627886365181,\n",
       " 1.581162344497464,\n",
       " 1.5762397210726165,\n",
       " 1.5709038640886568,\n",
       " 1.5651954038144265,\n",
       " 1.5591517516287392,\n",
       " 1.5528071616865757,\n",
       " 1.5461928435522807,\n",
       " 1.539337114422521,\n",
       " 1.5322655803450518,\n",
       " 1.5250013368428688,\n",
       " 1.5175651805009918,\n",
       " 1.5099758242960017,\n",
       " 1.5022501106866817,\n",
       " 1.4944032176880868,\n",
       " 1.4864488542822922,\n",
       " 1.478399442548568,\n",
       " 1.4702662848053032,\n",
       " 1.4620597148358563,\n",
       " 1.4537892329183166,\n",
       " 1.4454636248985455,\n",
       " 1.437091065945126,\n",
       " 1.4286792099153824,\n",
       " 1.4202352654569599,\n",
       " 1.4117660600838737,\n",
       " 1.403278093513967,\n",
       " 1.3947775815500874,\n",
       " 1.3862704917427984,\n",
       " 1.3777625719992925,\n",
       " 1.3692593732111518,\n",
       " 1.3607662668706997,\n",
       " 1.3522884585384372,\n",
       " 1.3438309979173872,\n",
       " 1.335398786187829,\n",
       " 1.3269965811603137,\n",
       " 1.3186290007176988,\n",
       " 1.3103005249389374,\n",
       " 1.3020154972287916,\n",
       " 1.2937781247182576,\n",
       " 1.28559247814977,\n",
       " 1.2774624914184922,\n",
       " 1.2693919609053514,\n",
       " 1.261384544708099,\n",
       " 1.2534437618526848,\n",
       " 1.2455729915478617,\n",
       " 1.2377754725303896,\n",
       " 1.230054302535867,\n",
       " 1.2224124379204848,\n",
       " 1.2148526934513526,\n",
       " 1.207377742277126,\n",
       " 1.1999901160860407,\n",
       " 1.1926922054549296,\n",
       " 1.1854862603900496,\n",
       " 1.1783743910584732,\n",
       " 1.1713585687071741,\n",
       " 1.1644406267657244,\n",
       " 1.157622262127565,\n",
       " 1.1509050366040887,\n",
       " 1.1442903785452199,\n",
       " 1.137779584619731,\n",
       " 1.1313738217482179,\n",
       " 1.1250741291813828,\n",
       " 1.1188814207160909,\n",
       " 1.1127964870415095,\n",
       " 1.1068199982075404,\n",
       " 1.100952506207678,\n",
       " 1.0951944476683888,\n",
       " 1.0895461466370906,\n",
       " 1.0840078174608143,\n",
       " 1.0785795677476715,\n",
       " 1.0732614014032866,\n",
       " 1.0680532217344394,\n",
       " 1.062954834612231,\n",
       " 1.057965951687208,\n",
       " 1.0530861936489853,\n",
       " 1.0483150935230503,\n",
       " 1.0436520999975727,\n",
       " 1.0390965807732109,\n",
       " 1.0346478259290732,\n",
       " 1.0303050512981795,\n",
       " 1.02606740184596,\n",
       " 1.0219339550455373,\n",
       " 1.0179037242437408,\n",
       " 1.0139756620120317,\n",
       " 1.0101486634767392,\n",
       " 1.006421569623237,\n",
       " 1.0027931705689406,\n",
       " 0.999262208800228,\n",
       " 0.9958273823686538,\n",
       " 0.9924873480420568,\n",
       " 0.9892407244064242,\n",
       " 0.9860860949146188,\n",
       " 0.9830220108783355,\n",
       " 0.9800469943998957,\n",
       " 0.977159541240749,\n",
       " 0.9743581236237931,\n",
       " 0.9716411929668756,\n",
       " 0.9690071825450808,\n",
       " 0.9664545100796509,\n",
       " 0.9639815802516233,\n",
       " 0.9615867871385022,\n",
       " 0.9592685165725079,\n",
       " 0.9570251484191723,\n",
       " 0.954855058775264,\n",
       " 0.9527566220852384,\n",
       " 0.9507282131756134,\n",
       " 0.9487682092068667,\n",
       " 0.9468749915426456,\n",
       " 0.9450469475362593,\n",
       " 0.9432824722346034,\n",
       " 0.9415799699998344,\n",
       " 0.939937856049271,\n",
       " 0.9383545579141555,\n",
       " 0.9368285168180488,\n",
       " 0.9353581889757776,\n",
       " 0.9339420468139707,\n",
       " 0.9325785801143543,\n",
       " 0.9312662970810784,\n",
       " 0.93000372533346,\n",
       " 0.9287894128256201,\n",
       " 0.9276219286945852,\n",
       " 0.9264998640385002,\n",
       " 0.9254218326266814,\n",
       " 0.9243864715432961,\n",
       " 0.9233924417665204,\n",
       " 0.9224384286850765,\n",
       " 0.9215231425540972,\n",
       " 0.9206453188923008,\n",
       " 0.9198037188224951,\n",
       " 0.9189971293574503,\n",
       " 0.9182243636332044,\n",
       " 0.9174842610918744,\n",
       " 0.9167756876160558,\n",
       " 0.9160975356168946,\n",
       " 0.9154487240779156,\n",
       " 0.9148281985566786,\n",
       " 0.9142349311463264,\n",
       " 0.913667920399068,\n",
       " 0.9131261912136237,\n",
       " 0.912608794688629,\n",
       " 0.9121148079439712,\n",
       " 0.9116433339119979,\n",
       " 0.9111935011005015,\n",
       " 0.9107644633293498,\n",
       " 0.9103553994425886,\n",
       " 0.9099655129978026,\n",
       " 0.9095940319344753,\n",
       " 0.9092402082230423,\n",
       " 0.9089033174962848,\n",
       " 0.9085826586646599,\n",
       " 0.9082775535171138,\n",
       " 0.907987346308873,\n",
       " 0.9077114033376559,\n",
       " 0.907449112509691,\n",
       " 0.9071998828968808,\n",
       " 0.9069631442863887,\n",
       " 0.9067383467238782,\n",
       " 0.9065249600515758,\n",
       " 0.9063224734422785,\n",
       " 0.9061303949303683,\n",
       " 0.9059482509408493,\n",
       " 0.9057755858173628,\n",
       " 0.9056119613500924,\n",
       " 0.9054569563044108,\n",
       " 0.9053101659510782,\n",
       " 0.9051712015987445,\n",
       " 0.9050396901294689,\n",
       " 0.9049152735379106,\n",
       " 0.9047976084748117,\n",
       " 0.9046863657953378,\n",
       " 0.9045812301128042,\n",
       " 0.9044818993582698,\n",
       " 0.9043880843464434,\n",
       " 0.904299508348303,\n",
       " 0.9042159066707951,\n",
       " 0.9041370262439402,\n",
       " 0.9040626252156382,\n",
       " 0.9039924725544314,\n",
       " 0.903926347660453,\n",
       " 0.9038640399847535,\n",
       " 0.9038053486571743,\n",
       " 0.9037500821229019,\n",
       " 0.9036980577878163,\n",
       " 0.9036491016727184,\n",
       " 0.9036030480764964,\n",
       " 0.9035597392482718,\n",
       " 0.903519025068542,\n",
       " 0.9034807627393157,\n",
       " 0.903444816483223,\n",
       " 0.903411057251559,\n",
       " 0.9033793624412075,\n",
       " 0.9033496156203749,\n",
       " 0.9033217062630509,\n",
       " 0.9032955294920992,\n",
       " 0.9032709858308715,\n",
       " 0.9032479809632227,\n",
       " 0.9032264255018038,\n",
       " 0.9032062347644912,\n",
       " 0.9031873285588095,\n",
       " 0.9031696309741944,\n",
       " 0.90315307018194,\n",
       " 0.9031375782426644,\n",
       " 0.9031230909211269,\n",
       " 0.9031095475082254,\n",
       " 0.9030968906499979,\n",
       " 0.9030850661834511,\n",
       " 0.903074022979036,\n",
       " 0.9030637127895907,\n",
       " 0.9030540901055665,\n",
       " 0.9030451120163571,\n",
       " 0.9030367380775483,\n",
       " 0.9030289301839053,\n",
       " 0.9030216524479188,\n",
       " 0.9030148710837287,\n",
       " 0.903008554296249,\n",
       " 0.9030026721753175,\n",
       " 0.9029971965946958,\n",
       " 0.9029921011157503,\n",
       " 0.9029873608956437,\n",
       " 0.9029829525998719,\n",
       " 0.9029788543189853,\n",
       " 0.9029750454893316,\n",
       " 0.902971506817669,\n",
       " 0.9029682202094927,\n",
       " 0.9029651687009287,\n",
       " 0.9029623363940485,\n",
       " 0.9029597083954644,\n",
       " 0.9029572707580659,\n",
       " 0.9029550104257655,\n",
       " 0.9029529151811234,\n",
       " 0.902950973595723,\n",
       " 0.9029491749831793,\n",
       " 0.9029475093546581,\n",
       " 0.9029459673767938,\n",
       " 0.9029445403318943,\n",
       " 0.9029432200803273,\n",
       " 0.9029419990249842,\n",
       " 0.9029408700777222,\n",
       " 0.9029398266276906,\n",
       " 0.9029388625114475,\n",
       " 0.9029379719847799,\n",
       " 0.9029371496961409,\n",
       " 0.9029363906616241,\n",
       " 0.9029356902413955,\n",
       " 0.9029350441175089,\n",
       " 0.902934448273032,\n",
       " 0.902933898972416,\n",
       " 0.9029333927430405,\n",
       " 0.9029329263578736,\n",
       " 0.9029324968191849,\n",
       " 0.9029321013432552,\n",
       " 0.9029317373460276,\n",
       " 0.902931402429649,\n",
       " 0.9029310943698502,\n",
       " 0.9029308111041197,\n",
       " 0.9029305507206238,\n",
       " 0.9029303114478331,\n",
       " 0.9029300916448113,\n",
       " 0.9029298897921302,\n",
       " 0.9029297044833735,\n",
       " 0.9029295344171943,\n",
       " 0.9029293783898933,\n",
       " 0.902929235288487,\n",
       " 0.9029291040842359,\n",
       " 0.9029289838266044,\n",
       " 0.9029288736376265,\n",
       " 0.902928772706652,\n",
       " 0.9029286802854495,\n",
       " 0.9029285956836435,\n",
       " 0.9029285182644653,\n",
       " 0.9029284474407973,\n",
       " 0.9029283826714911,\n",
       " 0.9029283234579446,\n",
       " 0.902928269340917,\n",
       " 0.9029282198975699,\n",
       " 0.9029281747387188,\n",
       " 0.9029281335062789,\n",
       " 0.9029280958708958,\n",
       " 0.9029280615297459,\n",
       " 0.9029280302044959,\n",
       " 0.902928001639412,\n",
       " 0.9029279755996062,\n",
       " 0.9029279518694125,\n",
       " 0.9029279302508827,\n",
       " 0.9029279105623932,\n",
       " 0.9029278926373575,\n",
       " 0.9029278763230336,\n",
       " 0.9029278614794221,\n",
       " 0.9029278479782475,\n",
       " 0.9029278357020172,\n",
       " 0.9029278245431518,\n",
       " 0.9029278144031836,\n",
       " 0.9029278051920148,\n",
       " 0.9029277968272352,\n",
       " 0.9029277892334925,\n",
       " 0.9029277823419104,\n",
       " 0.9029277760895549,\n",
       " 0.9029277704189406,\n",
       " 0.9029277652775772,\n",
       " 0.9029277606175522,\n",
       " 0.9029277563951464,\n",
       " 0.9029277525704804,\n",
       " 0.9029277491071902,\n",
       " 0.9029277459721282,\n",
       " 0.9029277431350897,\n",
       " 0.9029277405685602,\n",
       " 0.902927738247485,\n",
       " 0.9029277361490567,\n",
       " 0.9029277342525212,\n",
       " 0.9029277325389984,\n",
       " 0.9029277309913198,\n",
       " 0.902927729593878,\n",
       " 0.90292772833249,\n",
       " 0.9029277271942711,\n",
       " 0.9029277261675204,\n",
       " 0.9029277252416156,\n",
       " 0.9029277244069167,\n",
       " 0.9029277236546783,\n",
       " 0.9029277229769692,\n",
       " 0.9029277223665989,\n",
       " 0.9029277218170509,\n",
       " 0.9029277213224212,\n",
       " 0.9029277208773627,\n",
       " 0.9029277204770345,\n",
       " 0.9029277201170551,\n",
       " 0.9029277197934604,\n",
       " 0.9029277195026651,\n",
       " 0.9029277192414273,\n",
       " 0.9029277190068171,\n",
       " 0.902927718796187,\n",
       " 0.9029277186071462,\n",
       " 0.902927718437535,\n",
       " 0.9029277182854051,\n",
       " 0.9029277181489977,\n",
       " 0.9029277180267267,\n",
       " 0.9029277179171616,\n",
       " 0.9029277178190135,\n",
       " 0.9029277177311201,\n",
       " 0.9029277176524352,\n",
       " 0.9029277175820162,\n",
       " 0.9029277175190147,\n",
       " 0.9029277174626671,\n",
       " 0.9029277174122868,\n",
       " 0.902927717367256,\n",
       " 0.9029277173270193,\n",
       " 0.9029277172910778,\n",
       " 0.9029277172589831,\n",
       " 0.9029277172303325,\n",
       " 0.9029277172047646,\n",
       " 0.9029277171819549,\n",
       " 0.9029277171616121,\n",
       " 0.9029277171434753,\n",
       " 0.9029277171273103,\n",
       " 0.9029277171129075,\n",
       " 0.9029277171000786,\n",
       " 0.9029277170886553,\n",
       " 0.9029277170784867,\n",
       " 0.9029277170694381,\n",
       " 0.9029277170613884,\n",
       " 0.9029277170542298,\n",
       " 0.9029277170478656,\n",
       " 0.9029277170422094,\n",
       " 0.902927717037184,\n",
       " 0.9029277170327205,\n",
       " 0.9029277170287573,\n",
       " 0.9029277170252396,\n",
       " 0.9029277170221179,\n",
       " 0.9029277170193489,\n",
       " 0.9029277170168933,\n",
       " 0.9029277170147165,\n",
       " 0.9029277170127873,\n",
       " 0.9029277170110781,\n",
       " 0.9029277170095643,\n",
       " 0.902927717008224,\n",
       " 0.9029277170070378,\n",
       " 0.9029277170059881,\n",
       " 0.9029277170050596,\n",
       " 0.9029277170042385,\n",
       " 0.9029277170035127,\n",
       " 0.9029277170028712,\n",
       " 0.9029277170023046,\n",
       " 0.9029277170018042,\n",
       " 0.9029277170013623,\n",
       " 0.9029277170009723,\n",
       " 0.9029277170006282,\n",
       " 0.9029277170003248,\n",
       " 0.9029277170000571,\n",
       " 0.9029277169998212,\n",
       " 0.9029277169996134,\n",
       " 0.9029277169994302,\n",
       " 0.9029277169992689,\n",
       " 0.902927716999127,\n",
       " 0.902927716999002,\n",
       " 0.9029277169988921,\n",
       " 0.9029277169987954,\n",
       " 0.9029277169987103,\n",
       " 0.9029277169986355,\n",
       " 0.9029277169985699,\n",
       " 0.9029277169985122,\n",
       " 0.9029277169984615,\n",
       " 0.902927716998417,\n",
       " 0.9029277169983779,\n",
       " 0.9029277169983437,\n",
       " 0.9029277169983136,\n",
       " 0.9029277169982873,\n",
       " 0.9029277169982642,\n",
       " 0.902927716998244,\n",
       " 0.9029277169982263,\n",
       " 0.9029277169982108,\n",
       " 0.9029277169981972,\n",
       " 0.9029277169981853,\n",
       " 0.902927716998175,\n",
       " 0.9029277169981659,\n",
       " 0.9029277169981579,\n",
       " 0.9029277169981509,\n",
       " 0.9029277169981449,\n",
       " 0.9029277169981396,\n",
       " 0.9029277169981349,\n",
       " 0.9029277169981309,\n",
       " 0.9029277169981273,\n",
       " 0.9029277169981242,\n",
       " 0.9029277169981216,\n",
       " 0.9029277169981192,\n",
       " 0.9029277169981171,\n",
       " 0.9029277169981154,\n",
       " 0.9029277169981139,\n",
       " 0.9029277169981125,\n",
       " 0.9029277169981114,\n",
       " 0.9029277169981104,\n",
       " 0.9029277169981095,\n",
       " 0.9029277169981087,\n",
       " 0.902927716998108,\n",
       " 0.9029277169981074,\n",
       " 0.9029277169981069,\n",
       " 0.9029277169981065,\n",
       " 0.902927716998106,\n",
       " 0.9029277169981057,\n",
       " 0.9029277169981055,\n",
       " 0.9029277169981051,\n",
       " 0.902927716998105,\n",
       " 0.9029277169981048,\n",
       " 0.9029277169981046,\n",
       " 0.9029277169981045,\n",
       " 0.9029277169981044,\n",
       " 0.9029277169981043,\n",
       " 0.9029277169981041,\n",
       " 0.9029277169981041,\n",
       " 0.902927716998104,\n",
       " 0.9029277169981039,\n",
       " 0.9029277169981039,\n",
       " 0.9029277169981038,\n",
       " 0.9029277169981038,\n",
       " 0.9029277169981038,\n",
       " 0.9029277169981038,\n",
       " 0.9029277169981037,\n",
       " 0.9029277169981037,\n",
       " 0.9029277169981037,\n",
       " 0.9029277169981037,\n",
       " 0.9029277169981037,\n",
       " 0.9029277169981037,\n",
       " 0.9029277169981037,\n",
       " 0.9029277169981036,\n",
       " 0.9029277169981036,\n",
       " 0.9029277169981036,\n",
       " 0.9029277169981036,\n",
       " 0.9029277169981036,\n",
       " 0.9029277169981036,\n",
       " 0.9029277169981036,\n",
       " 0.9029277169981036,\n",
       " 0.9029277169981036,\n",
       " 0.9029277169981036,\n",
       " 0.9029277169981036,\n",
       " 0.9029277169981036,\n",
       " 0.9029277169981036,\n",
       " 0.9029277169981036,\n",
       " 0.9029277169981036,\n",
       " 0.9029277169981036,\n",
       " 0.9029277169981036,\n",
       " 0.9029277169981036,\n",
       " 0.9029277169981036,\n",
       " 0.9029277169981036,\n",
       " 0.9029277169981036,\n",
       " 0.9029277169981036,\n",
       " 0.9029277169981036,\n",
       " 0.9029277169981036,\n",
       " 0.9029277169981036,\n",
       " 0.9029277169981036,\n",
       " 0.9029277169981036,\n",
       " 0.9029277169981036,\n",
       " 0.9029277169981036,\n",
       " 0.9029277169981036,\n",
       " 0.9029277169981036,\n",
       " 0.9029277169981036,\n",
       " 0.9029277169981036,\n",
       " 0.9029277169981036,\n",
       " 0.9029277169981036,\n",
       " 0.9029277169981036,\n",
       " 0.9029277169981036,\n",
       " 0.9029277169981036,\n",
       " 0.9029277169981036,\n",
       " 0.9029277169981036,\n",
       " 0.9029277169981036,\n",
       " 0.9029277169981036,\n",
       " 0.9029277169981036,\n",
       " 0.9029277169981036,\n",
       " 0.9029277169981036,\n",
       " 0.9029277169981036,\n",
       " 0.9029277169981036,\n",
       " 0.9029277169981036,\n",
       " 0.9029277169981036,\n",
       " 0.9029277169981036,\n",
       " 0.9029277169981036,\n",
       " 0.9029277169981036,\n",
       " 0.9029277169981036,\n",
       " 0.9029277169981036,\n",
       " 0.9029277169981036,\n",
       " 0.9029277169981036,\n",
       " 0.9029277169981036,\n",
       " 0.9029277169981036,\n",
       " 0.9029277169981036,\n",
       " 0.9029277169981036,\n",
       " 0.9029277169981036,\n",
       " 0.9029277169981036,\n",
       " 0.9029277169981036,\n",
       " 0.9029277169981036,\n",
       " 0.9029277169981036,\n",
       " 0.9029277169981036,\n",
       " 0.9029277169981036,\n",
       " 0.9029277169981036,\n",
       " 0.9029277169981036,\n",
       " 0.9029277169981036,\n",
       " 0.9029277169981036,\n",
       " 0.9029277169981036,\n",
       " 0.9029277169981036,\n",
       " 0.9029277169981036,\n",
       " 0.9029277169981036,\n",
       " 0.9029277169981036,\n",
       " 0.9029277169981036,\n",
       " 0.9029277169981036,\n",
       " 0.9029277169981036,\n",
       " 0.9029277169981036,\n",
       " 0.9029277169981036,\n",
       " 0.9029277169981036,\n",
       " 0.9029277169981036,\n",
       " 0.9029277169981036,\n",
       " 0.9029277169981036,\n",
       " 0.9029277169981036,\n",
       " 0.9029277169981036,\n",
       " 0.9029277169981036,\n",
       " 0.9029277169981036,\n",
       " 0.9029277169981036,\n",
       " 0.9029277169981036,\n",
       " 0.9029277169981036,\n",
       " 0.9029277169981036,\n",
       " 0.9029277169981036,\n",
       " 0.9029277169981036,\n",
       " 0.9029277169981036,\n",
       " 0.9029277169981036,\n",
       " 0.9029277169981036,\n",
       " 0.9029277169981036,\n",
       " 0.9029277169981036,\n",
       " 0.9029277169981036,\n",
       " 0.9029277169981036,\n",
       " 0.9029277169981036,\n",
       " 0.9029277169981036,\n",
       " 0.9029277169981036,\n",
       " 0.9029277169981036,\n",
       " 0.9029277169981036,\n",
       " 0.9029277169981036,\n",
       " 0.9029277169981036,\n",
       " 0.9029277169981036,\n",
       " 0.9029277169981036,\n",
       " 0.9029277169981036,\n",
       " 0.9029277169981036,\n",
       " 0.9029277169981036,\n",
       " 0.9029277169981036,\n",
       " 0.9029277169981036,\n",
       " 0.9029277169981036,\n",
       " 0.9029277169981036,\n",
       " 0.9029277169981036,\n",
       " 0.9029277169981036,\n",
       " 0.9029277169981036,\n",
       " 0.9029277169981036,\n",
       " 0.9029277169981036,\n",
       " 0.9029277169981036,\n",
       " 0.9029277169981036,\n",
       " 0.9029277169981036,\n",
       " 0.9029277169981036,\n",
       " 0.9029277169981036,\n",
       " 0.9029277169981036,\n",
       " 0.9029277169981036,\n",
       " 0.9029277169981036,\n",
       " 0.9029277169981036,\n",
       " 0.9029277169981036,\n",
       " 0.9029277169981036,\n",
       " 0.9029277169981036,\n",
       " 0.9029277169981036,\n",
       " 0.9029277169981036,\n",
       " 0.9029277169981036,\n",
       " 0.9029277169981036,\n",
       " 0.9029277169981036,\n",
       " 0.9029277169981036,\n",
       " 0.9029277169981036,\n",
       " 0.9029277169981036,\n",
       " 0.9029277169981036,\n",
       " 0.9029277169981036,\n",
       " 0.9029277169981036,\n",
       " 0.9029277169981036,\n",
       " 0.9029277169981036,\n",
       " 0.9029277169981036,\n",
       " 0.9029277169981036,\n",
       " 0.9029277169981036,\n",
       " 0.9029277169981036,\n",
       " 0.9029277169981036,\n",
       " 0.9029277169981036,\n",
       " 0.9029277169981036,\n",
       " 0.9029277169981036,\n",
       " 0.9029277169981036,\n",
       " 0.9029277169981036,\n",
       " 0.9029277169981036,\n",
       " 0.9029277169981036,\n",
       " 0.9029277169981036,\n",
       " 0.9029277169981036,\n",
       " 0.9029277169981036,\n",
       " 0.9029277169981036,\n",
       " 0.9029277169981036,\n",
       " 0.9029277169981036,\n",
       " 0.9029277169981036,\n",
       " 0.9029277169981036,\n",
       " 0.9029277169981036,\n",
       " 0.9029277169981036,\n",
       " 0.9029277169981036,\n",
       " 0.9029277169981036,\n",
       " 0.9029277169981036,\n",
       " 0.9029277169981036,\n",
       " 0.9029277169981036,\n",
       " 0.9029277169981036,\n",
       " 0.9029277169981036,\n",
       " 0.9029277169981036,\n",
       " 0.9029277169981036,\n",
       " 0.9029277169981036,\n",
       " 0.9029277169981036,\n",
       " 0.9029277169981036,\n",
       " 0.9029277169981036,\n",
       " 0.9029277169981036,\n",
       " 0.9029277169981036,\n",
       " 0.9029277169981036,\n",
       " 0.9029277169981036,\n",
       " 0.9029277169981036,\n",
       " 0.9029277169981036,\n",
       " 0.9029277169981036,\n",
       " 0.9029277169981036,\n",
       " 0.9029277169981036,\n",
       " 0.9029277169981036,\n",
       " 0.9029277169981036,\n",
       " 0.9029277169981036,\n",
       " 0.9029277169981036,\n",
       " 0.9029277169981036,\n",
       " 0.9029277169981036,\n",
       " 0.9029277169981036,\n",
       " 0.9029277169981036,\n",
       " 0.9029277169981036,\n",
       " 0.9029277169981036,\n",
       " 0.9029277169981036,\n",
       " 0.9029277169981036,\n",
       " 0.9029277169981036,\n",
       " 0.9029277169981036,\n",
       " 0.9029277169981036,\n",
       " 0.9029277169981036,\n",
       " 0.9029277169981036,\n",
       " 0.9029277169981036,\n",
       " 0.9029277169981036,\n",
       " 0.9029277169981036,\n",
       " 0.9029277169981036,\n",
       " 0.9029277169981036,\n",
       " 0.9029277169981036,\n",
       " 0.9029277169981036,\n",
       " 0.9029277169981036,\n",
       " 0.9029277169981036,\n",
       " 0.9029277169981036,\n",
       " 0.9029277169981036,\n",
       " 0.9029277169981036,\n",
       " 0.9029277169981036,\n",
       " 0.9029277169981036,\n",
       " 0.9029277169981036,\n",
       " 0.9029277169981036,\n",
       " 0.9029277169981036,\n",
       " 0.9029277169981036,\n",
       " 0.9029277169981036,\n",
       " 0.9029277169981036,\n",
       " 0.9029277169981036,\n",
       " 0.9029277169981036,\n",
       " 0.9029277169981036,\n",
       " 0.9029277169981036,\n",
       " 0.9029277169981036,\n",
       " 0.9029277169981036,\n",
       " 0.9029277169981036,\n",
       " 0.9029277169981036,\n",
       " 0.9029277169981036,\n",
       " 0.9029277169981036,\n",
       " 0.9029277169981036,\n",
       " 0.9029277169981036,\n",
       " 0.9029277169981036,\n",
       " 0.9029277169981036,\n",
       " 0.9029277169981036,\n",
       " 0.9029277169981036,\n",
       " 0.9029277169981036,\n",
       " 0.9029277169981036,\n",
       " 0.9029277169981036,\n",
       " 0.9029277169981036,\n",
       " 0.9029277169981036,\n",
       " 0.9029277169981036,\n",
       " 0.9029277169981036,\n",
       " 0.9029277169981036,\n",
       " 0.9029277169981036,\n",
       " 0.9029277169981036,\n",
       " 0.9029277169981036,\n",
       " 0.9029277169981036,\n",
       " 0.9029277169981036,\n",
       " 0.9029277169981036,\n",
       " 0.9029277169981036,\n",
       " 0.9029277169981036,\n",
       " 0.9029277169981036,\n",
       " 0.9029277169981036,\n",
       " 0.9029277169981036,\n",
       " 0.9029277169981036,\n",
       " 0.9029277169981036,\n",
       " 0.9029277169981036,\n",
       " 0.9029277169981036,\n",
       " 0.9029277169981036,\n",
       " 0.9029277169981036,\n",
       " 0.9029277169981036,\n",
       " 0.9029277169981036,\n",
       " 0.9029277169981036,\n",
       " 0.9029277169981036,\n",
       " 0.9029277169981036,\n",
       " 0.9029277169981036,\n",
       " 0.9029277169981036,\n",
       " 0.9029277169981036,\n",
       " 0.9029277169981036,\n",
       " 0.9029277169981036,\n",
       " 0.9029277169981036,\n",
       " 0.9029277169981036,\n",
       " 0.9029277169981036,\n",
       " 0.9029277169981036,\n",
       " 0.9029277169981036,\n",
       " 0.9029277169981036,\n",
       " 0.9029277169981036,\n",
       " 0.9029277169981036,\n",
       " 0.9029277169981036,\n",
       " 0.9029277169981036,\n",
       " 0.9029277169981036,\n",
       " 0.9029277169981036,\n",
       " 0.9029277169981036,\n",
       " 0.9029277169981036,\n",
       " 0.9029277169981036,\n",
       " 0.9029277169981036,\n",
       " 0.9029277169981036,\n",
       " 0.9029277169981036,\n",
       " 0.9029277169981036,\n",
       " 0.9029277169981036,\n",
       " 0.9029277169981036,\n",
       " 0.9029277169981036,\n",
       " 0.9029277169981036,\n",
       " 0.9029277169981036,\n",
       " 0.9029277169981036,\n",
       " 0.9029277169981036,\n",
       " 0.9029277169981036,\n",
       " 0.9029277169981036,\n",
       " 0.9029277169981036,\n",
       " 0.9029277169981036,\n",
       " 0.9029277169981036,\n",
       " 0.9029277169981036,\n",
       " 0.9029277169981036,\n",
       " 0.9029277169981036,\n",
       " 0.9029277169981036,\n",
       " 0.9029277169981036,\n",
       " 0.9029277169981036,\n",
       " 0.9029277169981036,\n",
       " 0.9029277169981036,\n",
       " 0.9029277169981036,\n",
       " 0.9029277169981036,\n",
       " 0.9029277169981036,\n",
       " 0.9029277169981036,\n",
       " 0.9029277169981036,\n",
       " 0.9029277169981036,\n",
       " 0.9029277169981036,\n",
       " 0.9029277169981036,\n",
       " 0.9029277169981036,\n",
       " 0.9029277169981036,\n",
       " 0.9029277169981036,\n",
       " 0.9029277169981036,\n",
       " 0.9029277169981036,\n",
       " 0.9029277169981036,\n",
       " 0.9029277169981036,\n",
       " 0.9029277169981036,\n",
       " 0.9029277169981036,\n",
       " 0.9029277169981036,\n",
       " 0.9029277169981036,\n",
       " 0.9029277169981036,\n",
       " 0.9029277169981036,\n",
       " 0.9029277169981036,\n",
       " 0.9029277169981036,\n",
       " 0.9029277169981036,\n",
       " 0.9029277169981036,\n",
       " 0.9029277169981036,\n",
       " 0.9029277169981036,\n",
       " 0.9029277169981036,\n",
       " 0.9029277169981036,\n",
       " 0.9029277169981036,\n",
       " 0.9029277169981036,\n",
       " 0.9029277169981036,\n",
       " 0.9029277169981036,\n",
       " 0.9029277169981036,\n",
       " 0.9029277169981036,\n",
       " 0.9029277169981036,\n",
       " 0.9029277169981036,\n",
       " 0.9029277169981036,\n",
       " 0.9029277169981036,\n",
       " 0.9029277169981036,\n",
       " 0.9029277169981036,\n",
       " 0.9029277169981036,\n",
       " 0.9029277169981036,\n",
       " 0.9029277169981036,\n",
       " 0.9029277169981036,\n",
       " 0.9029277169981036,\n",
       " 0.9029277169981036,\n",
       " 0.9029277169981036,\n",
       " 0.9029277169981036,\n",
       " 0.9029277169981036,\n",
       " 0.9029277169981036,\n",
       " 0.9029277169981036,\n",
       " 0.9029277169981036,\n",
       " 0.9029277169981036,\n",
       " 0.9029277169981036,\n",
       " 0.9029277169981036,\n",
       " 0.9029277169981036,\n",
       " 0.9029277169981036,\n",
       " 0.9029277169981036,\n",
       " 0.9029277169981036,\n",
       " 0.9029277169981036,\n",
       " 0.9029277169981036,\n",
       " 0.9029277169981036,\n",
       " 0.9029277169981036,\n",
       " 0.9029277169981036,\n",
       " 0.9029277169981036,\n",
       " 0.9029277169981036,\n",
       " 0.9029277169981036,\n",
       " 0.9029277169981036,\n",
       " 0.9029277169981036,\n",
       " 0.9029277169981036,\n",
       " 0.9029277169981036,\n",
       " 0.9029277169981036,\n",
       " 0.9029277169981036,\n",
       " 0.9029277169981036,\n",
       " 0.9029277169981036,\n",
       " 0.9029277169981036,\n",
       " 0.9029277169981036,\n",
       " 0.9029277169981036,\n",
       " 0.9029277169981036,\n",
       " 0.9029277169981036,\n",
       " 0.9029277169981036,\n",
       " 0.9029277169981036,\n",
       " 0.9029277169981036,\n",
       " 0.9029277169981036,\n",
       " 0.9029277169981036,\n",
       " 0.9029277169981036,\n",
       " 0.9029277169981036,\n",
       " 0.9029277169981036,\n",
       " 0.9029277169981036,\n",
       " 0.9029277169981036,\n",
       " 0.9029277169981036,\n",
       " 0.9029277169981036,\n",
       " 0.9029277169981036,\n",
       " 0.9029277169981036,\n",
       " 0.9029277169981036,\n",
       " 0.9029277169981036,\n",
       " 0.9029277169981036,\n",
       " 0.9029277169981036,\n",
       " 0.9029277169981036,\n",
       " 0.9029277169981037,\n",
       " 0.9029277169981037,\n",
       " 0.9029277169981038,\n",
       " 0.9029277169981039,\n",
       " 0.9029277169981043,\n",
       " 0.9029277169981047,\n",
       " 0.9029277169981056,\n",
       " 0.9029277169981073,\n",
       " 0.90292771699811,\n",
       " 0.9029277169981148,\n",
       " 0.9029277169981232,\n",
       " 0.9029277169981378,\n",
       " 0.9029277169981628,\n",
       " 0.9029277169982054,\n",
       " 0.9029277169982779,\n",
       " 0.9029277169984005,\n",
       " 0.9029277169986065,\n",
       " 0.9029277169989512,\n",
       " 0.9029277169995249,\n",
       " 0.9029277170004745,\n",
       " 0.9029277170020381,\n",
       " 0.9029277170045996,\n",
       " 0.9029277170087735,\n",
       " 0.9029277170155393,\n",
       " 0.9029277170264489,\n",
       " 0.9029277170439484,\n",
       " 0.902927717071871,\n",
       " 0.902927717116192,\n",
       " 0.9029277171861729,\n",
       " 0.9029277172960912,\n",
       " 0.9029277174678344,\n",
       " 0.9029277177347712,\n",
       " 0.9029277181474921,\n",
       " 0.9029277187822727,\n",
       " 0.9029277197534759,\n",
       " 0.9029277212316159,\n",
       " 0.9029277234695138,\n",
       " 0.9029277268399337,\n",
       " 0.9029277318894159,\n",
       " 0.9029277394148003,\n",
       " 0.9029277505713409,\n",
       " 0.9029277670245032,\n",
       " 0.9029277911617729,\n",
       " 0.9029278263863515,\n",
       " 0.9029278775218302,\n",
       " 0.9029279513662465,\n",
       " 0.9029280574458209,\n",
       " 0.9029282090337426,\n",
       " 0.9029284245182752,\n",
       " 0.9029287292279367,\n",
       " 0.902929157850382,\n",
       " 0.9029297576167317,\n",
       " 0.9029305924653226,\n",
       " 0.9029317484490182,\n",
       " 0.9029333407090457,\n",
       " 0.9029355224063323,\n",
       " 0.9029384960787279,\n",
       " 0.9029425279790995,\n",
       " 0.9029479660442676,\n",
       " 0.9029552622465346,\n",
       " 0.9029650001856266,\n",
       " 0.9029779288855502,\n",
       " 0.9029950038631716,\n",
       " 0.9030174366267957,\n",
       " 0.9030467538355746,\n",
       " 0.9030848673945358,\n",
       " 0.903134156764071,\n",
       " 0.903197564714186,\n",
       " 0.9032787076388341,\n",
       " 0.9033820013498443,\n",
       " 0.9035128029788999,\n",
       " 0.9036775692163102,\n",
       " 0.9038840305954516,\n",
       " 0.9041413808835272,\n",
       " 0.904460479859016,\n",
       " 0.90485406684622,\n",
       " 0.9053369813474498,\n",
       " 0.9059263859821368,\n",
       " 0.9066419857378611,\n",
       " 0.9075062362997842,\n",
       " 0.9085445330018511,\n",
       " 0.9097853707952284,\n",
       " 0.9112604646257413,\n",
       " 0.9130048188286239,\n",
       " 0.9150567336659776,\n",
       " 0.9174577370307023,\n",
       " 0.9202524296970596,\n",
       " 0.923488233380039,\n",
       " 0.9272150323263143,\n",
       " 0.9314847012315371,\n",
       " ...]"
      ]
     },
     "execution_count": 267,
     "metadata": {},
     "output_type": "execute_result"
    }
   ],
   "source": [
    "list(weight_profile_45_02)"
   ]
  },
  {
   "cell_type": "code",
   "execution_count": 253,
   "metadata": {},
   "outputs": [
    {
     "data": {
      "text/plain": [
       "[<matplotlib.lines.Line2D at 0x128c447d0>]"
      ]
     },
     "execution_count": 253,
     "metadata": {},
     "output_type": "execute_result"
    },
    {
     "data": {
      "image/png": "[encoded data removed]",
      "text/plain": [
       "<Figure size 432x288 with 1 Axes>"
      ]
     },
     "metadata": {
      "needs_background": "light"
     },
     "output_type": "display_data"
    }
   ],
   "source": [
    "y03 = [(360. * (j - N_excitatory / 2) / N_excitatory) for j in range(N_excitatory)]\n",
    "plt.plot(y03)\n",
    "y04 = [(360. * min(j, N_excitatory - j) / N_excitatory) for j in range(N_excitatory)]\n",
    "plt.plot(y04)"
   ]
  },
  {
   "cell_type": "code",
   "execution_count": 153,
   "metadata": {},
   "outputs": [
    {
     "data": {
      "text/plain": [
       "array([0.99221794, 0.99252802, 0.99283187, 0.99312948, 0.99342085,\n",
       "       0.99370596, 0.99398482, 0.99425741, 0.99452374, 0.9947838 ,\n",
       "       0.99503757, 0.99528507, 0.99552628, 0.9957612 , 0.99598982,\n",
       "       0.99621214, 0.99642816, 0.99663786, 0.99684126, 0.99703834,\n",
       "       0.9972291 , 0.99741353, 0.99759164, 0.99776342, 0.99792886,\n",
       "       0.99808796, 0.99824073, 0.99838715, 0.99852722, 0.99866095,\n",
       "       0.99878833, 0.99890935, 0.99902401, 0.99913232, 0.99923427,\n",
       "       0.99932985, 0.99941907, 0.99950193, 0.99957842, 0.99964854,\n",
       "       0.99971228, 0.99976966, 0.99982067, 0.9998653 , 0.99990355,\n",
       "       0.99993544, 0.99996094, 0.99998007, 0.99999283, 0.9999992 ,\n",
       "       0.9999992 , 0.99999283, 0.99998007, 0.99996094, 0.99993544,\n",
       "       0.99990355, 0.9998653 , 0.99982067, 0.99976966, 0.99971228,\n",
       "       0.99964854, 0.99957842, 0.99950193, 0.99941907, 0.99932985,\n",
       "       0.99923427, 0.99913232, 0.99902401, 0.99890935, 0.99878833,\n",
       "       0.99866095, 0.99852722, 0.99838715, 0.99824073, 0.99808796,\n",
       "       0.99792886, 0.99776342, 0.99759164, 0.99741353, 0.9972291 ,\n",
       "       0.99703834, 0.99684126, 0.99663786, 0.99642816, 0.99621214,\n",
       "       0.99598982, 0.9957612 , 0.99552628, 0.99528507, 0.99503757,\n",
       "       0.9947838 , 0.99452374, 0.99425741, 0.99398482, 0.99370596,\n",
       "       0.99342085, 0.99312948, 0.99283187, 0.99252802, 0.99221794])"
      ]
     },
     "execution_count": 153,
     "metadata": {},
     "output_type": "execute_result"
    }
   ],
   "source": [
    "numpy.exp(-.5 * x ** 2 / sigma_weight_profile ** 2)"
   ]
  },
  {
   "cell_type": "code",
   "execution_count": 105,
   "metadata": {},
   "outputs": [
    {
     "data": {
      "text/plain": [
       "-0.3030836671745017"
      ]
     },
     "execution_count": 105,
     "metadata": {},
     "output_type": "execute_result"
    }
   ],
   "source": [
    "skewnorm.ppf(0.01, a)"
   ]
  },
  {
   "cell_type": "code",
   "execution_count": 106,
   "metadata": {},
   "outputs": [
    {
     "data": {
      "text/plain": [
       "2.5758293035488857"
      ]
     },
     "execution_count": 106,
     "metadata": {},
     "output_type": "execute_result"
    }
   ],
   "source": [
    "skewnorm.ppf(0.99, a)"
   ]
  },
  {
   "cell_type": "code",
   "execution_count": null,
   "metadata": {},
   "outputs": [],
   "source": []
  }
 ],
 "metadata": {
  "kernelspec": {
   "display_name": "Python 3",
   "language": "python",
   "name": "python3"
  },
  "language_info": {
   "codemirror_mode": {
    "name": "ipython",
    "version": 3
   },
   "file_extension": ".py",
   "mimetype": "text/x-python",
   "name": "python",
   "nbconvert_exporter": "python",
   "pygments_lexer": "ipython3",
   "version": "3.7.9"
  }
 },
 "nbformat": 4,
 "nbformat_minor": 2
}
