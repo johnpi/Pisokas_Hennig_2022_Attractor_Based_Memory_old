{
 "cells": [
  {
   "cell_type": "code",
   "execution_count": 143,
   "metadata": {},
   "outputs": [
    {
     "name": "stdout",
     "output_type": "stream",
     "text": [
      "1.57079632679\n",
      "1.8777380599211129\n",
      "1.5707963267948963\n"
     ]
    },
    {
     "data": {
      "text/plain": [
       "[<matplotlib.lines.Line2D at 0x118e66c50>]"
      ]
     },
     "execution_count": 143,
     "metadata": {},
     "output_type": "execute_result"
    },
    {
     "data": {
      "image/png": "[encoded data removed]",
      "text/plain": [
       "<Figure size 432x288 with 1 Axes>"
      ]
     },
     "metadata": {},
     "output_type": "display_data"
    }
   ],
   "source": [
    "# Import libraries\n",
    "import numpy as np\n",
    "# for numerical ODE integration\n",
    "from scipy import integrate\n",
    "# for plotting\n",
    "import matplotlib.pyplot as plt\n",
    "from mpl_toolkits.mplot3d import Axes3D\n",
    "from matplotlib import cm\n",
    "from matplotlib.ticker import LinearLocator, FormatStrFormatter\n",
    "\n",
    "# Diplay options:\n",
    "# to display plots in-line\n",
    "%matplotlib inline\n",
    "plt.style.use('ggplot')\n",
    "\n",
    "# to display plots in separate windows (interactive)\n",
    "#%matplotlib qt \n",
    "\n",
    "\n",
    "nn = 100              # 100 neurons\n",
    "dx = 2 * np.pi / nn   # Spatial resolution\n",
    "sig = 2 * np.pi / 10\n",
    "C = 0.5               # Inhibition strength\n",
    "\n",
    "def vonmises(x, mu=180*np.pi/180, kappa=1):\n",
    "    \"\"\" Returns the values of a von Mises (circular Gaussian) with \n",
    "        centre at mu and width kappa at the sample points in x. \n",
    "        x : a vector with the sample points 0:2*pi\n",
    "        mu : the von mises distribution center [0:2*pi]\n",
    "        kappa : specifies the width of the Gaussian\n",
    "        Returns a vector with the values from the distribution. \n",
    "        Example: \n",
    "            mu=180*pi/180; kappa=0.5; i=[0:100]; x = 2 * pi * i / 100\n",
    "            v = vonmises(x, mu, kappa) \"\"\"\n",
    "    if (kappa > 5):\n",
    "        return np.exp(kappa * (np.cos(x - mu) - 1))\n",
    "    return (np.exp(kappa * (np.cos(x - mu) + 1)) - 1) / (np.exp(2 * kappa) - 1);\n",
    "\n",
    "def population_vector(input_vec, pref_direction_vec):\n",
    "    \"\"\" Population vector encoded direction decoding.\n",
    "        input_vec          : vector of neuron activities\n",
    "        pref_direction_vec : preferred directions of neurons\n",
    "        Returns the direction encoded by the population code.\n",
    "        The calculation used is from https://en.wikipedia.org/wiki/Population_vector \"\"\"\n",
    "    vec = sum(input_vec * pref_direction_vec) / sum(input_vec)\n",
    "    return vec\n",
    "\n",
    "def wrapN(x, n):\n",
    "    return np.mod(x, n)\n",
    "\n",
    "def population_vector2(input_vec, pref_direction_vec):\n",
    "    max_pos = np.argmax(input_vec)\n",
    "    vec = pref_direction_vec[max_pos]\n",
    "    \n",
    "    sample_frac = 0.1\n",
    "    if (max_pos >= np.size(input_vec) * sample_frac and max_pos <= np.size(input_vec) * (1-sample_frac)):\n",
    "        nominator_sum = 0\n",
    "        denominator_sum = 0\n",
    "        from_val = (max_pos - np.size(input_vec) * sample_frac + 1).astype(int)\n",
    "        to_val   = (max_pos + np.size(input_vec) * sample_frac).astype(int)\n",
    "        for i in range(from_val, to_val):\n",
    "            item = wrapN(i, np.size(input_vec))\n",
    "            nominator_sum = nominator_sum + input_vec[item] * pref_direction_vec[item]\n",
    "            denominator_sum = denominator_sum + input_vec[item]\n",
    "        vec = nominator_sum / denominator_sum\n",
    "    \n",
    "    return vec\n",
    "\n",
    "    \n",
    "i=np.array(range(100))\n",
    "x = 2 * np.pi * i / 100\n",
    "mu = 90 * np.pi / 180; \n",
    "print(mu)\n",
    "kappa=1; \n",
    "pv = vonmises(x, mu, kappa)\n",
    "pva = population_vector(pv, x)\n",
    "print pva\n",
    "pva2 = population_vector2(pv, x)\n",
    "print pva2\n",
    "\n",
    "\n",
    "# Plot the results\n",
    "fig = plt.figure()\n",
    "ax = fig.add_subplot(111)\n",
    "ax.plot(x, pv)\n"
   ]
  },
  {
   "cell_type": "markdown",
   "metadata": {},
   "source": [
    "### "
   ]
  }
 ],
 "metadata": {
  "kernelspec": {
   "display_name": "Python 2",
   "language": "python",
   "name": "python2"
  },
  "language_info": {
   "codemirror_mode": {
    "name": "ipython",
    "version": 2
   },
   "file_extension": ".py",
   "mimetype": "text/x-python",
   "name": "python",
   "nbconvert_exporter": "python",
   "pygments_lexer": "ipython2",
   "version": "2.7.16"
  }
 },
 "nbformat": 4,
 "nbformat_minor": 2
}
