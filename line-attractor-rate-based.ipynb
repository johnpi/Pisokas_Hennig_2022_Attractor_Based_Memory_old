{
 "cells": [
  {
   "cell_type": "markdown",
   "metadata": {},
   "source": [
    "# Rate based implementation of a line-attractor"
   ]
  },
  {
   "cell_type": "markdown",
   "metadata": {},
   "source": [
    "We implement this as ring-attractor to avoid the complication of boundary conditions, that is dealing with the edges of the network. This simplification does not affect the conclusions of the current study. Whether the neurla implementation in the animal is a ring or line attractor will affect what will happen if we force the animal to exceed its maximum distance that can be represented by the network. Such an experiment is in the plan but not done yet. "
   ]
  },
  {
   "cell_type": "markdown",
   "metadata": {},
   "source": [
    "This model is based on the Dunamic Neural Field model of Fundamentals of Computational Neuroscience, Thomas Trappenberg, pp 194"
   ]
  },
  {
   "cell_type": "code",
   "execution_count": 272,
   "metadata": {},
   "outputs": [],
   "source": [
    "# Import libraries\n",
    "import numpy as np\n",
    "# for numerical ODE integration\n",
    "from scipy import integrate\n",
    "# for plotting\n",
    "import matplotlib.pyplot as plt\n",
    "from mpl_toolkits.mplot3d import Axes3D\n",
    "from matplotlib import cm\n",
    "from matplotlib.ticker import LinearLocator, FormatStrFormatter\n",
    "\n",
    "# Diplay options:\n",
    "# to display plots in-line\n",
    "#%matplotlib inline\n",
    "#plt.style.use('ggplot')\n",
    "\n",
    "# to display plots in separate windows (interactive)\n",
    "%matplotlib qt \n"
   ]
  },
  {
   "cell_type": "code",
   "execution_count": 273,
   "metadata": {},
   "outputs": [],
   "source": [
    "nn = 100              # 100 neurons\n",
    "dx = 2 * np.pi / nn   # Spatial resolution\n",
    "sig = 2 * np.pi / 10\n",
    "C = 0.5               # Inhibition strength"
   ]
  },
  {
   "cell_type": "code",
   "execution_count": 274,
   "metadata": {},
   "outputs": [],
   "source": [
    "# Training the weight matrix\n",
    "neuron_id = range(nn) # 0:99\n",
    "i = np.array([neuron_id]).T  # Create a column vector. Use list in list because it has to be 2D to transpose it \n",
    "pat = np.zeros((nn, nn))\n",
    "for loc in neuron_id:\n",
    "    dis = np.minimum(np.abs(i-loc), nn - np.abs(i-loc)) # Circular distances\n",
    "    pat[:, loc] = np.exp(-(dx*dis) ** 2 / (2 * sig**2)).reshape((1, -1)) # Reshape to 1D vector before assignment\n",
    "\n",
    "# Calculate the weight matrix\n",
    "w = np.matmul(pat, pat.T)\n",
    "w = w / w[1, 1] # Normalise\n",
    "w = 4 * (w - C) # Add inhibition and scale\n",
    "\n",
    "# Arrays to record values into\n",
    "tall = np.empty((0, 1))\n",
    "rall = np.empty((0, nn))\n"
   ]
  },
  {
   "cell_type": "code",
   "execution_count": 275,
   "metadata": {},
   "outputs": [],
   "source": [
    "def rnn_ode(t, u):\n",
    "    ''' The right hand side of the differential equation '''\n",
    "    # ODE solver for recurrent network\n",
    "    tau = 1           # Membrane time constant\n",
    "    tau_inv = 1 / tau # Inverse of membrane time constant\n",
    "    r = 1 / (1 + np.exp(-u))\n",
    "    sum1  = np.matmul(w, r) * dx\n",
    "    udot = tau_inv * (-u + sum1 + I_ext)\n",
    "    return udot"
   ]
  },
  {
   "cell_type": "code",
   "execution_count": 279,
   "metadata": {
    "scrolled": true
   },
   "outputs": [
    {
     "data": {
      "text/plain": [
       "Text(0.5,0,'Activity')"
      ]
     },
     "execution_count": 279,
     "metadata": {},
     "output_type": "execute_result"
    }
   ],
   "source": [
    "# Update with localised input\n",
    "# integration period\n",
    "I_ext = np.zeros(nn)\n",
    "I_ext[(nn/2-np.floor(nn/10)).astype(int):(nn/2+np.floor(nn/10)).astype(int)] = 1\n",
    "t_simulation_start = 0\n",
    "t_simulation_end = 10\n",
    "t_simulation = (t_simulation_start, t_simulation_end)\n",
    "init_value = np.zeros(nn)\n",
    "solution = integrate.solve_ivp(rnn_ode, t_simulation, init_value, 'RK45')\n",
    "t = solution.t\n",
    "u = solution.y\n",
    "# Calculate firing rates\n",
    "r = 1 / (1 + np.exp(-u))\n",
    "\n",
    "# Record data\n",
    "tall = np.vstack((tall, t.reshape(1, -1).T))\n",
    "rall = np.vstack((rall, r.T))\n",
    "\n",
    "# Update without input\n",
    "I_ext = np.zeros(nn)\n",
    "t_simulation_start = 10\n",
    "t_simulation_end = 500\n",
    "t_simulation = (t_simulation_start, t_simulation_end)\n",
    "init_value = u[:,-1] # The new initial value is the last state\n",
    "solution = integrate.solve_ivp(rnn_ode, t_simulation, init_value, 'RK45')\n",
    "t = solution.t\n",
    "u = solution.y\n",
    "# Calculate firing rates\n",
    "r = 1 / (1 + np.exp(-u))\n",
    "\n",
    "# Record data\n",
    "tall = np.vstack((tall, t.reshape(1, -1).T))\n",
    "rall = np.vstack((rall, r.T))\n",
    "\n",
    "# Plot the results\n",
    "fig = plt.figure()\n",
    "ax = fig.add_subplot(111, projection='3d')\n",
    "X, Y = np.meshgrid(tall, range(nn))\n",
    "ax.plot_surface(X, Y, rall.T, cmap=cm.coolwarm,\n",
    "                       linewidth=1, antialiased=True)\n",
    "\n",
    "ax.set_xlabel('Time (s)')\n",
    "ax.set_ylabel('Neuron #')\n",
    "ax.set_zlabel('Activity')\n"
   ]
  },
  {
   "cell_type": "code",
   "execution_count": null,
   "metadata": {},
   "outputs": [],
   "source": []
  }
 ],
 "metadata": {
  "kernelspec": {
   "display_name": "Python 2",
   "language": "python",
   "name": "python2"
  },
  "language_info": {
   "codemirror_mode": {
    "name": "ipython",
    "version": 2
   },
   "file_extension": ".py",
   "mimetype": "text/x-python",
   "name": "python",
   "nbconvert_exporter": "python",
   "pygments_lexer": "ipython2",
   "version": "2.7.16"
  }
 },
 "nbformat": 4,
 "nbformat_minor": 2
}
